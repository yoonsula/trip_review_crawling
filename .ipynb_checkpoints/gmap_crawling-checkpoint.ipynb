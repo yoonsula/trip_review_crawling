{
 "cells": [
  {
   "cell_type": "code",
   "execution_count": 86,
   "metadata": {
    "ExecuteTime": {
     "end_time": "2022-08-10T07:07:04.282758Z",
     "start_time": "2022-08-10T07:07:04.268759Z"
    },
    "scrolled": true
   },
   "outputs": [
    {
     "data": {
      "text/plain": [
       "'3.141.0'"
      ]
     },
     "execution_count": 86,
     "metadata": {},
     "output_type": "execute_result"
    }
   ],
   "source": [
    "# !pip install --upgrade selenium==3.141.0"
   ]
  },
  {
   "cell_type": "code",
   "execution_count": 1,
   "metadata": {
    "ExecuteTime": {
     "end_time": "2022-08-19T04:35:48.883937Z",
     "start_time": "2022-08-19T04:35:47.757181Z"
    }
   },
   "outputs": [],
   "source": [
    "import pandas as pd\n",
    "import numpy as np\n",
    "\n",
    "import time\n",
    "\n",
    "from bs4 import BeautifulSoup\n",
    "from selenium import webdriver\n",
    "from selenium.webdriver.chrome.options import Options\n",
    "from selenium.webdriver import ActionChains\n",
    "from selenium.webdriver.common.keys import Keys\n",
    "from selenium.webdriver.common.by import By  # 3개는 selenium이 동작하면서 웹 화면이 로딩될때 까지 기다림을 지원\n",
    "from selenium.webdriver.support.ui import WebDriverWait # 웹 드라이버 미리 설치\n",
    "from selenium.webdriver.support import expected_conditions as EC       "
   ]
  },
  {
   "cell_type": "code",
   "execution_count": 68,
   "metadata": {
    "ExecuteTime": {
     "end_time": "2022-08-19T06:29:35.621545Z",
     "start_time": "2022-08-19T06:29:24.904807Z"
    }
   },
   "outputs": [],
   "source": [
    "\n",
    "driver = webdriver.Chrome('C:/Users/YOONSU/chromedriver.exe')\n",
    "driver.get('https://www.google.com/maps/place/%EC%88%98%EC%82%B0%ED%95%AD%EB%A7%88%EB%A6%AC%EB%82%98/@38.0767789,128.6701324,17z/data=!4m7!3m6!1s0x5fd8ac25aeb1ec81:0x2e0e60128c084f79!8m2!3d38.076779!4d128.6746117!9m1!1b1?hl=en')\n",
    "driver.maximize_window()\n",
    "time.sleep(5)\n",
    "\n",
    "# sort to recent review \n",
    "wait = WebDriverWait(driver, 10)\n",
    "menu_bt = wait.until(EC.element_to_be_clickable(\n",
    "                       (By.XPATH, '//button[@data-value=\\'Sort\\']'))\n",
    "                   )  \n",
    "menu_bt.click()\n",
    "\n",
    "recent_rating_bt = driver.find_elements_by_xpath(\n",
    "                                     '//li[@role=\\'menuitemradio\\']')[0]\n",
    "recent_rating_bt.click()\n"
   ]
  },
  {
   "cell_type": "code",
   "execution_count": 69,
   "metadata": {
    "ExecuteTime": {
     "end_time": "2022-08-19T06:30:32.997214Z",
     "start_time": "2022-08-19T06:29:35.685208Z"
    },
    "code_folding": []
   },
   "outputs": [
    {
     "name": "stderr",
     "output_type": "stream",
     "text": [
      "  0%|                                                                                          | 0/430 [00:46<?, ?it/s]\n",
      "100%|████████████████████████████████████████████████████████████████████████████████| 430/430 [00:57<00:00,  7.51it/s]\n"
     ]
    }
   ],
   "source": [
    "# scroll code\n",
    "# total n review (10 reviews per 1 page)\n",
    "from tqdm import tqdm\n",
    "\n",
    "# google map allows crawling until 93th scroll(maybe robots.txt disallow crawling)\n",
    "page_num = 38\n",
    "per = 10\n",
    "pbar = tqdm(total=page_num*per)\n",
    "with tqdm(total=page_num*per, position=0, leave=True) as pbar:\n",
    "    for i in range(page_num):\n",
    "        buffer = driver.find_elements_by_class_name('qjESne') # buffer location\n",
    "        action = ActionChains(driver)\n",
    "\n",
    "        n =len(buffer)\n",
    "        action.move_to_element(buffer[n-1]).perform() # move to last buffer\n",
    "        time.sleep(1)\n",
    "        pbar.update(per)\n",
    "    pbar.close()"
   ]
  },
  {
   "cell_type": "code",
   "execution_count": 70,
   "metadata": {
    "ExecuteTime": {
     "end_time": "2022-08-19T06:32:48.630035Z",
     "start_time": "2022-08-19T06:30:33.046156Z"
    }
   },
   "outputs": [],
   "source": [
    "box_list = []\n",
    "name_list = []\n",
    "stars_list = []\n",
    "review_list = []\n",
    "date_list = []\n",
    "\n",
    "boxes = driver.find_elements_by_class_name('jftiEf.fontBodyMedium') # review class\n",
    "\n",
    "\n",
    "# more butten click\n",
    "for box in boxes:\n",
    "    try:\n",
    "        more_btn = box.find_element_by_class_name('w8nwRe.kyuRq')\n",
    "        more_btn.click()\n",
    "        time.sleep(1)\n",
    "    except:\n",
    "        continue\n",
    "# review collection\n",
    "for box in boxes:\n",
    "\n",
    "    IDs = box.find_elements_by_class_name('d4r55')\n",
    "\n",
    "    Dates = box.find_elements_by_class_name('rsqaWe')\n",
    "\n",
    "    Stars = box.find_elements_by_class_name('kvMYJc')\n",
    "\n",
    "    reviews = box.find_elements_by_css_selector('span.wiI7pd')\n",
    "\n",
    "    for ID, Date, Star, review in zip(IDs, Dates, Stars, reviews):\n",
    "        name_list.append(ID.text)\n",
    "        date_list.append(Date.text)\n",
    "        stars_list.append(Star.get_attribute('aria-label'))\n",
    "        review_list.append(review.text)\n"
   ]
  },
  {
   "cell_type": "code",
   "execution_count": null,
   "metadata": {},
   "outputs": [],
   "source": [
    "'''\n",
    "# hotel attraction is differ from others, so we change html code for it.\n",
    "driver = webdriver.Chrome('C:/Users/YOONSU/chromedriver.exe')\n",
    "driver.get(\"https://www.google.co.kr/maps/place/RAMADA+BY+WYNDHAM+GANGWON+SOKCHO/@38.1742623,128.6080383,17z/data=!4m11!1m2!2m1!1z652866eI64ukIG5lYXIgU291dGggS29yZWEsIEdhbmd3b24tZG8sIFNva2Noby1zaSwgSm95YW5nLWRvbmcsIEhhZW9yZXVtLXJvLCDsho3stIjtlbTrs4A!3m7!1s0x5fd8bb1cf6945597:0xcac91aeee45ce119!5m2!4m1!1i2!9m1!1b1!15sClnrnbzrp4jri6QgbmVhciBTb3V0aCBLb3JlYSwgR2FuZ3dvbi1kbywgU29rY2hvLXNpLCBKb3lhbmctZG9uZywgSGFlb3JldW0tcm8sIOyGjey0iO2VtOuzgCIDiAEBWlciVeudvOuniOuLpCBuZWFyIHNvdXRoIGtvcmVhIGdhbmd3b24gZG8gc29rY2hvIHNpIGpveWFuZyBkb25nIGhhZW9yZXVtIHJvIOyGjey0iCDtlbTrs4CSAQVob3RlbJoBI0NoWkRTVWhOTUc5blMwVkpRMEZuU1VSTGRuWmhTVlpCRUFF?hl=en\")\n",
    "driver.maximize_window()\n",
    "time.sleep(5)\n",
    "\n",
    "# sort to recent review \n",
    "wait = WebDriverWait(driver, 10)\n",
    "menu_bt = wait.until(EC.element_to_be_clickable(\n",
    "                       (By.CSS_SELECTOR, '#QA0Szd > div > div > div.w6VYqd > div.bJzME.tTVLSc > div > div.e07Vkf.kA9KIf > div > div > div.m6QErb.DxyBCb.kA9KIf.dS8AEf > div.m6QErb.Pf6ghf.KoSBEe.ecceSd.tLjsW > div.TrU0dc.kdfrQc > button > span'))\n",
    "                   )  \n",
    "menu_bt.click()\n",
    "\n",
    "recent_rating_bt = driver.find_elements(By.XPATH,\n",
    "                                     '//li[@role=\\'menuitemradio\\']')[0] # most relevant button\n",
    "recent_rating_bt.click()\n",
    "\n",
    "time.sleep(7)\n",
    "\n",
    "# scroll code\n",
    "# total n review (10 reviews per 1 page)\n",
    "from tqdm import tqdm\n",
    "\n",
    "# google map allows crawling until 93th scroll(maybe robots.txt disallow crawling)\n",
    "page_num = 93\n",
    "per = 10\n",
    "pbar = tqdm(total=page_num*per)\n",
    "with tqdm(total=page_num*per, position=0, leave=True) as pbar:\n",
    "    for i in range(page_num):\n",
    "        buffer = driver.find_elements_by_class_name('qjESne') # buffer location\n",
    "        action = ActionChains(driver)\n",
    "\n",
    "        n =len(buffer)\n",
    "        action.move_to_element(buffer[n-1]).perform() # move to last buffer\n",
    "        time.sleep(1)\n",
    "        pbar.update(per)\n",
    "    pbar.close()\n",
    "    \n",
    "box_list = []\n",
    "name_list = []\n",
    "stars_list = []\n",
    "review_list = []\n",
    "date_list = []\n",
    "\n",
    "boxes = driver.find_elements_by_class_name('jftiEf.fontBodyMedium') # review class\n",
    "\n",
    "\n",
    "# more butten click\n",
    "for box in boxes:\n",
    "    try:\n",
    "        more_btn = box.find_element_by_class_name('w8nwRe.kyuRq')\n",
    "        more_btn.click()\n",
    "        time.sleep(1)\n",
    "    except:\n",
    "        continue\n",
    "# review collection\n",
    "for box in boxes:\n",
    "\n",
    "    IDs = box.find_elements_by_class_name('d4r55')\n",
    "\n",
    "    Dates = box.find_elements_by_css_selector('span.xRkPPb')\n",
    "\n",
    "    Stars = box.find_elements_by_css_selector('span.fzvQIb')\n",
    "\n",
    "    reviews = box.find_elements_by_css_selector('span.wiI7pd')\n",
    "\n",
    "    for ID, Date, Star, review in zip(IDs, Dates, Stars, reviews):\n",
    "        name_list.append(ID.text)\n",
    "        date_list.append(Date.text)\n",
    "        stars_list.append(Star.text)\n",
    "        review_list.append(review.text)\n",
    "'''"
   ]
  },
  {
   "cell_type": "code",
   "execution_count": 77,
   "metadata": {
    "ExecuteTime": {
     "end_time": "2022-08-19T06:44:17.684520Z",
     "start_time": "2022-08-19T06:44:17.655216Z"
    }
   },
   "outputs": [
    {
     "name": "stdout",
     "output_type": "stream",
     "text": [
      "30\n"
     ]
    },
    {
     "data": {
      "text/html": [
       "<div>\n",
       "<style scoped>\n",
       "    .dataframe tbody tr th:only-of-type {\n",
       "        vertical-align: middle;\n",
       "    }\n",
       "\n",
       "    .dataframe tbody tr th {\n",
       "        vertical-align: top;\n",
       "    }\n",
       "\n",
       "    .dataframe thead th {\n",
       "        text-align: right;\n",
       "    }\n",
       "</style>\n",
       "<table border=\"1\" class=\"dataframe\">\n",
       "  <thead>\n",
       "    <tr style=\"text-align: right;\">\n",
       "      <th></th>\n",
       "      <th>name</th>\n",
       "      <th>rating</th>\n",
       "      <th>review</th>\n",
       "      <th>date</th>\n",
       "    </tr>\n",
       "  </thead>\n",
       "  <tbody>\n",
       "    <tr>\n",
       "      <th>25</th>\n",
       "      <td>Jacob Amoako</td>\n",
       "      <td>5/5</td>\n",
       "      <td>Cool place for vacation.  Next to the beach wi...</td>\n",
       "      <td>3 years ago on\\nGoogle</td>\n",
       "    </tr>\n",
       "    <tr>\n",
       "      <th>26</th>\n",
       "      <td>Kasper Nyman</td>\n",
       "      <td>4/5</td>\n",
       "      <td>Good clean rooms, defensively worthy to get th...</td>\n",
       "      <td>2 years ago on\\nGoogle</td>\n",
       "    </tr>\n",
       "    <tr>\n",
       "      <th>27</th>\n",
       "      <td>Simon Lee</td>\n",
       "      <td>3/5</td>\n",
       "      <td>Beautiful location.  Sunrise was breathtaking....</td>\n",
       "      <td>2 years ago on\\nGoogle</td>\n",
       "    </tr>\n",
       "    <tr>\n",
       "      <th>28</th>\n",
       "      <td>K L</td>\n",
       "      <td>3/5</td>\n",
       "      <td>Great location and view, clean and well-design...</td>\n",
       "      <td>3 years ago on\\nGoogle</td>\n",
       "    </tr>\n",
       "    <tr>\n",
       "      <th>29</th>\n",
       "      <td>Subin Rosa Lee</td>\n",
       "      <td>5/5</td>\n",
       "      <td>very nice and kind place. Uncontacted service ...</td>\n",
       "      <td>a year ago on\\nGoogle</td>\n",
       "    </tr>\n",
       "  </tbody>\n",
       "</table>\n",
       "</div>"
      ],
      "text/plain": [
       "              name rating                                             review  \\\n",
       "25    Jacob Amoako    5/5  Cool place for vacation.  Next to the beach wi...   \n",
       "26    Kasper Nyman    4/5  Good clean rooms, defensively worthy to get th...   \n",
       "27       Simon Lee    3/5  Beautiful location.  Sunrise was breathtaking....   \n",
       "28             K L    3/5  Great location and view, clean and well-design...   \n",
       "29  Subin Rosa Lee    5/5  very nice and kind place. Uncontacted service ...   \n",
       "\n",
       "                      date  \n",
       "25  3 years ago on\\nGoogle  \n",
       "26  2 years ago on\\nGoogle  \n",
       "27  2 years ago on\\nGoogle  \n",
       "28  3 years ago on\\nGoogle  \n",
       "29   a year ago on\\nGoogle  "
      ]
     },
     "execution_count": 77,
     "metadata": {},
     "output_type": "execute_result"
    }
   ],
   "source": [
    "# review list to dataframe\n",
    "review = pd.DataFrame(\n",
    "    {'name': name_list,\n",
    "     'rating': stars_list,\n",
    "     'review': review_list,\n",
    "     'date': date_list\n",
    "    })\n",
    "pd.set_option('display.max_rows', None)\n",
    "print(len(review))\n",
    "review.tail()"
   ]
  },
  {
   "cell_type": "code",
   "execution_count": 72,
   "metadata": {
    "ExecuteTime": {
     "end_time": "2022-08-19T06:32:48.754931Z",
     "start_time": "2022-08-19T06:32:48.745932Z"
    }
   },
   "outputs": [],
   "source": [
    "eng_review = review.copy()"
   ]
  },
  {
   "cell_type": "code",
   "execution_count": 73,
   "metadata": {
    "ExecuteTime": {
     "end_time": "2022-08-19T06:32:50.882502Z",
     "start_time": "2022-08-19T06:32:48.802954Z"
    },
    "scrolled": true
   },
   "outputs": [
    {
     "name": "stdout",
     "output_type": "stream",
     "text": [
      "5\n"
     ]
    },
    {
     "data": {
      "text/html": [
       "<div>\n",
       "<style scoped>\n",
       "    .dataframe tbody tr th:only-of-type {\n",
       "        vertical-align: middle;\n",
       "    }\n",
       "\n",
       "    .dataframe tbody tr th {\n",
       "        vertical-align: top;\n",
       "    }\n",
       "\n",
       "    .dataframe thead th {\n",
       "        text-align: right;\n",
       "    }\n",
       "</style>\n",
       "<table border=\"1\" class=\"dataframe\">\n",
       "  <thead>\n",
       "    <tr style=\"text-align: right;\">\n",
       "      <th></th>\n",
       "      <th>name</th>\n",
       "      <th>rating</th>\n",
       "      <th>review</th>\n",
       "      <th>date</th>\n",
       "    </tr>\n",
       "  </thead>\n",
       "  <tbody>\n",
       "    <tr>\n",
       "      <th>0</th>\n",
       "      <td>N R</td>\n",
       "      <td>5 stars</td>\n",
       "      <td>harbour with different private yatch    also f...</td>\n",
       "      <td>2 years ago</td>\n",
       "    </tr>\n",
       "    <tr>\n",
       "      <th>1</th>\n",
       "      <td>sungjijn park</td>\n",
       "      <td>3 stars</td>\n",
       "      <td>beautiful</td>\n",
       "      <td>a year ago</td>\n",
       "    </tr>\n",
       "    <tr>\n",
       "      <th>2</th>\n",
       "      <td>Andy Chae</td>\n",
       "      <td>5 stars</td>\n",
       "      <td>nice</td>\n",
       "      <td>3 years ago</td>\n",
       "    </tr>\n",
       "    <tr>\n",
       "      <th>3</th>\n",
       "      <td>Wunk Zu</td>\n",
       "      <td>5 stars</td>\n",
       "      <td>nice place for fishing</td>\n",
       "      <td>2 years ago</td>\n",
       "    </tr>\n",
       "    <tr>\n",
       "      <th>5</th>\n",
       "      <td>LiLz Ahn</td>\n",
       "      <td>4 stars</td>\n",
       "      <td>love</td>\n",
       "      <td>3 years ago</td>\n",
       "    </tr>\n",
       "  </tbody>\n",
       "</table>\n",
       "</div>"
      ],
      "text/plain": [
       "            name     rating  \\\n",
       "0            N R   5 stars    \n",
       "1  sungjijn park   3 stars    \n",
       "2      Andy Chae   5 stars    \n",
       "3        Wunk Zu   5 stars    \n",
       "5       LiLz Ahn   4 stars    \n",
       "\n",
       "                                              review         date  \n",
       "0  harbour with different private yatch    also f...  2 years ago  \n",
       "1                                          beautiful   a year ago  \n",
       "2                                               nice  3 years ago  \n",
       "3                             nice place for fishing  2 years ago  \n",
       "5                                               love  3 years ago  "
      ]
     },
     "execution_count": 73,
     "metadata": {},
     "output_type": "execute_result"
    }
   ],
   "source": [
    "# remove korean name\n",
    "eng_review['name2'] = eng_review['name'].str.findall(r'[ㄱ-ㅎㅏ-ㅣ가-힣]')\n",
    "eng_review = eng_review[eng_review['name2'].str.len() == 0]\n",
    "\n",
    "# remove korean review\n",
    "eng_review['review2'] = eng_review['review'].str.findall(r'[ㄱ-ㅎㅏ-ㅣ가-힣]')\n",
    "eng_review = eng_review[eng_review['review2'].str.len() == 0]\n",
    "\n",
    "# remove name2 & review2 columns\n",
    "eng_review.drop(['name2','review2'],axis=1, inplace=True)\n",
    "\n",
    "# remove \"(Translated by Google)\" sentence\n",
    "eng_review['review'] = eng_review['review'].str.replace('(Translated by Google) ','',regex=False)\n",
    "\n",
    "# remove \"Original\" word\n",
    "eng_review['review'] = eng_review['review'].str.replace('\\(Original\\)','',regex=False)\n",
    "\n",
    "# remove not english sentence & special characters\n",
    "eng_review['review'] = eng_review['review'].str.replace(r'[^A-Za-z0-9]',' ', regex=True)\n",
    "\n",
    "# delete side blank and \"\\n\"\n",
    "eng_review['review'] = eng_review['review'].str.strip()\n",
    "\n",
    "# replace with lowercase\n",
    "eng_review['review'] = eng_review['review'].str.lower()\n",
    "\n",
    "# remove \"orginal\" word\n",
    "eng_review['review'] = eng_review['review'].str.replace('original','')\n",
    "\n",
    "# remove unreviewed data\n",
    "eng_review = eng_review[eng_review['review'].str.len()!=0]\n",
    "\n",
    "print(len(eng_review))\n",
    "eng_review.head(30)"
   ]
  },
  {
   "cell_type": "code",
   "execution_count": 74,
   "metadata": {
    "ExecuteTime": {
     "end_time": "2022-08-19T06:32:50.960106Z",
     "start_time": "2022-08-19T06:32:50.934097Z"
    },
    "scrolled": true
   },
   "outputs": [
    {
     "data": {
      "text/html": [
       "<div>\n",
       "<style scoped>\n",
       "    .dataframe tbody tr th:only-of-type {\n",
       "        vertical-align: middle;\n",
       "    }\n",
       "\n",
       "    .dataframe tbody tr th {\n",
       "        vertical-align: top;\n",
       "    }\n",
       "\n",
       "    .dataframe thead th {\n",
       "        text-align: right;\n",
       "    }\n",
       "</style>\n",
       "<table border=\"1\" class=\"dataframe\">\n",
       "  <thead>\n",
       "    <tr style=\"text-align: right;\">\n",
       "      <th></th>\n",
       "      <th>name</th>\n",
       "      <th>rating</th>\n",
       "      <th>review</th>\n",
       "      <th>date</th>\n",
       "    </tr>\n",
       "  </thead>\n",
       "  <tbody>\n",
       "    <tr>\n",
       "      <th>0</th>\n",
       "      <td>N R</td>\n",
       "      <td>5 stars</td>\n",
       "      <td>harbour with different private yatch    also f...</td>\n",
       "      <td>2 years ago</td>\n",
       "    </tr>\n",
       "    <tr>\n",
       "      <th>1</th>\n",
       "      <td>sungjijn park</td>\n",
       "      <td>3 stars</td>\n",
       "      <td>beautiful</td>\n",
       "      <td>a year ago</td>\n",
       "    </tr>\n",
       "    <tr>\n",
       "      <th>2</th>\n",
       "      <td>Andy Chae</td>\n",
       "      <td>5 stars</td>\n",
       "      <td>nice</td>\n",
       "      <td>3 years ago</td>\n",
       "    </tr>\n",
       "    <tr>\n",
       "      <th>3</th>\n",
       "      <td>Wunk Zu</td>\n",
       "      <td>5 stars</td>\n",
       "      <td>nice place for fishing</td>\n",
       "      <td>2 years ago</td>\n",
       "    </tr>\n",
       "    <tr>\n",
       "      <th>5</th>\n",
       "      <td>LiLz Ahn</td>\n",
       "      <td>4 stars</td>\n",
       "      <td>love</td>\n",
       "      <td>3 years ago</td>\n",
       "    </tr>\n",
       "  </tbody>\n",
       "</table>\n",
       "</div>"
      ],
      "text/plain": [
       "            name     rating  \\\n",
       "0            N R   5 stars    \n",
       "1  sungjijn park   3 stars    \n",
       "2      Andy Chae   5 stars    \n",
       "3        Wunk Zu   5 stars    \n",
       "5       LiLz Ahn   4 stars    \n",
       "\n",
       "                                              review         date  \n",
       "0  harbour with different private yatch    also f...  2 years ago  \n",
       "1                                          beautiful   a year ago  \n",
       "2                                               nice  3 years ago  \n",
       "3                             nice place for fishing  2 years ago  \n",
       "5                                               love  3 years ago  "
      ]
     },
     "execution_count": 74,
     "metadata": {},
     "output_type": "execute_result"
    }
   ],
   "source": [
    "eng_review.tail(10)"
   ]
  },
  {
   "cell_type": "code",
   "execution_count": null,
   "metadata": {},
   "outputs": [],
   "source": [
    "'''\n",
    "# for specific hotel review\n",
    "eng_review['date'] = eng_review['date'].str.replace('on\\nGoogle', '')\n",
    "eng_review['rating'] = eng_review['rating'].str.replace('/5','')\n",
    "eng_review.head()\n",
    "'''"
   ]
  },
  {
   "cell_type": "code",
   "execution_count": 46,
   "metadata": {
    "ExecuteTime": {
     "end_time": "2022-08-19T06:00:06.211254Z",
     "start_time": "2022-08-19T06:00:06.190231Z"
    }
   },
   "outputs": [],
   "source": [
    "#다 바꿔야함\n",
    "eng_review['attraction'] = 0\n",
    "eng_review['address'] = 0\n",
    "eng_review['latitude'] = 38.0535523\n",
    "eng_review['longitude'] = 128.617997\n",
    "#eng_review.to_csv(\"설악산권금성.csv\", encoding=\"utf-8\", index = None) #맥북 기준\n",
    "eng_review.to_csv(\"양양/송이밸리자연휴양림.csv\", encoding=\"utf-8\", index = None) #window 기준"
   ]
  },
  {
   "cell_type": "markdown",
   "metadata": {},
   "source": [
    "=================================================================================="
   ]
  }
 ],
 "metadata": {
  "hide_input": false,
  "kernelspec": {
   "display_name": "Python 3",
   "language": "python",
   "name": "python3"
  },
  "language_info": {
   "codemirror_mode": {
    "name": "ipython",
    "version": 3
   },
   "file_extension": ".py",
   "mimetype": "text/x-python",
   "name": "python",
   "nbconvert_exporter": "python",
   "pygments_lexer": "ipython3",
   "version": "3.8.5"
  },
  "toc": {
   "base_numbering": 1,
   "nav_menu": {},
   "number_sections": true,
   "sideBar": true,
   "skip_h1_title": false,
   "title_cell": "Table of Contents",
   "title_sidebar": "Contents",
   "toc_cell": false,
   "toc_position": {},
   "toc_section_display": true,
   "toc_window_display": false
  },
  "varInspector": {
   "cols": {
    "lenName": 16,
    "lenType": 16,
    "lenVar": 40
   },
   "kernels_config": {
    "python": {
     "delete_cmd_postfix": "",
     "delete_cmd_prefix": "del ",
     "library": "var_list.py",
     "varRefreshCmd": "print(var_dic_list())"
    },
    "r": {
     "delete_cmd_postfix": ") ",
     "delete_cmd_prefix": "rm(",
     "library": "var_list.r",
     "varRefreshCmd": "cat(var_dic_list()) "
    }
   },
   "types_to_exclude": [
    "module",
    "function",
    "builtin_function_or_method",
    "instance",
    "_Feature"
   ],
   "window_display": false
  }
 },
 "nbformat": 4,
 "nbformat_minor": 4
}
