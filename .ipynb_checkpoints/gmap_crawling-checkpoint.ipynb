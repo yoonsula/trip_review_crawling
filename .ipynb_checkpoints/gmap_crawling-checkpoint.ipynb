{
 "cells": [
  {
   "cell_type": "code",
   "execution_count": 1,
   "metadata": {
    "ExecuteTime": {
     "end_time": "2022-08-09T10:59:40.994354Z",
     "start_time": "2022-08-09T10:59:40.005952Z"
    }
   },
   "outputs": [],
   "source": [
    "import pandas as pd\n",
    "import numpy as np\n",
    "\n",
    "import time\n",
    "\n",
    "\n",
    "from bs4 import BeautifulSoup\n",
    "from selenium import webdriver\n",
    "from selenium.webdriver.chrome.options import Options\n",
    "from selenium.webdriver import ActionChains\n",
    "from selenium.webdriver.common.keys import Keys\n",
    "from selenium.webdriver.common.by import By  # 3개는 selenium이 동작하면서 웹 화면이 로딩될때 까지 기다림을 지원\n",
    "from selenium.webdriver.support.ui import WebDriverWait # 웹 드라이버 미리 설치\n",
    "from selenium.webdriver.support import expected_conditions as EC       "
   ]
  },
  {
   "cell_type": "code",
   "execution_count": 2,
   "metadata": {
    "ExecuteTime": {
     "end_time": "2022-08-09T10:59:50.096767Z",
     "start_time": "2022-08-09T10:59:40.996282Z"
    }
   },
   "outputs": [],
   "source": [
    "driver = webdriver.Chrome('C:/Users/YOONSU/chromedriver.exe')\n",
    "driver.get(\"https://www.google.com/maps/place/Ayajin+Beach/@38.3319145,128.4926231,13z/data=!4m11!1m2!2m1!1z7JWE7JW87KeE7ZW07IiY7JqV7J6l!3m7!1s0x5fd895584ed0740b:0x7dabe69453cc5ba3!8m2!3d38.2764619!4d128.5532654!9m1!1b1!15sChXslYTslbzsp4TtlbTsiJjsmpXsnqVaGCIW7JWE7JW87KeEIO2VtOyImOyaleyepZIBDHB1YmxpY19iZWFjaJoBI0NoWkRTVWhOTUc5blMwVkpRMEZuU1VNMlgyTnVhRUpCRUFF?hl=en\")\n",
    "driver.maximize_window()\n",
    "time.sleep(5)\n",
    "\n",
    "# sort to recent review \n",
    "wait = WebDriverWait(driver, 10)\n",
    "menu_bt = wait.until(EC.element_to_be_clickable(\n",
    "                       (By.XPATH, '//button[@data-value=\\'Sort\\']'))\n",
    "                   )  \n",
    "menu_bt.click()\n",
    "\n",
    "recent_rating_bt = driver.find_elements_by_xpath(\n",
    "                                     '//li[@role=\\'menuitemradio\\']')[1]\n",
    "recent_rating_bt.click()"
   ]
  },
  {
   "cell_type": "code",
   "execution_count": 3,
   "metadata": {
    "ExecuteTime": {
     "end_time": "2022-08-09T11:02:11.621433Z",
     "start_time": "2022-08-09T10:59:50.120768Z"
    }
   },
   "outputs": [],
   "source": [
    "# scroll code\n",
    "# total n review (10 reviews per 1 page)\n",
    "i = 0\n",
    "while i<60:\n",
    "    buffer = driver.find_elements_by_class_name('qjESne') # buffer location\n",
    "    time.sleep(1)\n",
    "    action = ActionChains(driver)\n",
    "\n",
    "    n =len(buffer)\n",
    "    action.move_to_element(buffer[n-1]).perform() # move to last buffer\n",
    "    time.sleep(1)\n",
    "    i += 1"
   ]
  },
  {
   "cell_type": "code",
   "execution_count": 4,
   "metadata": {
    "ExecuteTime": {
     "end_time": "2022-08-09T11:02:11.713428Z",
     "start_time": "2022-08-09T11:02:11.623428Z"
    }
   },
   "outputs": [],
   "source": [
    "box_list = []\n",
    "name_list = []\n",
    "stars_list = []\n",
    "review_list = []\n",
    "date_list = []\n",
    "\n",
    "boxes = driver.find_elements_by_class_name('jftiEf.fontBodyMedium') # review class"
   ]
  },
  {
   "cell_type": "code",
   "execution_count": 5,
   "metadata": {
    "ExecuteTime": {
     "end_time": "2022-08-09T11:07:05.789543Z",
     "start_time": "2022-08-09T11:02:11.716427Z"
    }
   },
   "outputs": [],
   "source": [
    "# more butten click\n",
    "for box in boxes:\n",
    "    try:\n",
    "        more_btn = box.find_element_by_class_name('w8nwRe.kyuRq')\n",
    "        more_btn.click()\n",
    "        time.sleep(1)\n",
    "    except:\n",
    "        continue\n",
    "# review collection\n",
    "for box in boxes:\n",
    "    \n",
    "    IDs = box.find_elements_by_class_name('d4r55')\n",
    "        \n",
    "    Dates = box.find_elements_by_class_name('rsqaWe')\n",
    "        \n",
    "    Stars = box.find_elements_by_class_name('kvMYJc')\n",
    "        \n",
    "    reviews = box.find_elements_by_class_name('wiI7pd')\n",
    "    \n",
    "    for ID,Date,Star,review in zip(IDs, Dates, Stars, reviews):\n",
    "        name_list.append(ID.text)\n",
    "        date_list.append(Date.text)\n",
    "        stars_list.append(Star.get_attribute('aria-label'))\n",
    "        review_list.append(review.text)"
   ]
  },
  {
   "cell_type": "code",
   "execution_count": 6,
   "metadata": {
    "ExecuteTime": {
     "end_time": "2022-08-09T11:07:05.850545Z",
     "start_time": "2022-08-09T11:07:05.791543Z"
    }
   },
   "outputs": [
    {
     "name": "stdout",
     "output_type": "stream",
     "text": [
      "610\n"
     ]
    },
    {
     "data": {
      "text/html": [
       "<div>\n",
       "<style scoped>\n",
       "    .dataframe tbody tr th:only-of-type {\n",
       "        vertical-align: middle;\n",
       "    }\n",
       "\n",
       "    .dataframe tbody tr th {\n",
       "        vertical-align: top;\n",
       "    }\n",
       "\n",
       "    .dataframe thead th {\n",
       "        text-align: right;\n",
       "    }\n",
       "</style>\n",
       "<table border=\"1\" class=\"dataframe\">\n",
       "  <thead>\n",
       "    <tr style=\"text-align: right;\">\n",
       "      <th></th>\n",
       "      <th>name</th>\n",
       "      <th>rating</th>\n",
       "      <th>review</th>\n",
       "      <th>date</th>\n",
       "    </tr>\n",
       "  </thead>\n",
       "  <tbody>\n",
       "    <tr>\n",
       "      <th>0</th>\n",
       "      <td>seungja lee</td>\n",
       "      <td>3 stars</td>\n",
       "      <td></td>\n",
       "      <td>a day ago</td>\n",
       "    </tr>\n",
       "    <tr>\n",
       "      <th>1</th>\n",
       "      <td>Jaemyeong Kim</td>\n",
       "      <td>5 stars</td>\n",
       "      <td>(Translated by Google) The water is clear and ...</td>\n",
       "      <td>4 days ago</td>\n",
       "    </tr>\n",
       "    <tr>\n",
       "      <th>2</th>\n",
       "      <td>갓물총 TV</td>\n",
       "      <td>5 stars</td>\n",
       "      <td></td>\n",
       "      <td>a week ago</td>\n",
       "    </tr>\n",
       "    <tr>\n",
       "      <th>3</th>\n",
       "      <td>지덕진</td>\n",
       "      <td>4 stars</td>\n",
       "      <td></td>\n",
       "      <td>a week ago</td>\n",
       "    </tr>\n",
       "    <tr>\n",
       "      <th>4</th>\n",
       "      <td>엘리샤</td>\n",
       "      <td>1 star</td>\n",
       "      <td>(Translated by Google) Sand is soft. My fuckin...</td>\n",
       "      <td>a week ago</td>\n",
       "    </tr>\n",
       "  </tbody>\n",
       "</table>\n",
       "</div>"
      ],
      "text/plain": [
       "            name     rating  \\\n",
       "0    seungja lee   3 stars    \n",
       "1  Jaemyeong Kim   5 stars    \n",
       "2         갓물총 TV   5 stars    \n",
       "3            지덕진   4 stars    \n",
       "4            엘리샤    1 star    \n",
       "\n",
       "                                              review        date  \n",
       "0                                                      a day ago  \n",
       "1  (Translated by Google) The water is clear and ...  4 days ago  \n",
       "2                                                     a week ago  \n",
       "3                                                     a week ago  \n",
       "4  (Translated by Google) Sand is soft. My fuckin...  a week ago  "
      ]
     },
     "execution_count": 6,
     "metadata": {},
     "output_type": "execute_result"
    }
   ],
   "source": [
    "# review list to dataframe\n",
    "review = pd.DataFrame(\n",
    "    {'name': name_list,\n",
    "     'rating': stars_list,\n",
    "     'review': review_list,\n",
    "     'date': date_list})\n",
    "pd.set_option('display.max_rows', None)\n",
    "print(len(review))\n",
    "review.head()"
   ]
  },
  {
   "cell_type": "code",
   "execution_count": 7,
   "metadata": {
    "ExecuteTime": {
     "end_time": "2022-08-09T11:07:05.866543Z",
     "start_time": "2022-08-09T11:07:05.853543Z"
    }
   },
   "outputs": [],
   "source": [
    "eng_review = review.copy()"
   ]
  },
  {
   "cell_type": "code",
   "execution_count": 8,
   "metadata": {
    "ExecuteTime": {
     "end_time": "2022-08-09T11:07:05.975544Z",
     "start_time": "2022-08-09T11:07:05.871546Z"
    }
   },
   "outputs": [
    {
     "name": "stdout",
     "output_type": "stream",
     "text": [
      "3\n"
     ]
    },
    {
     "name": "stderr",
     "output_type": "stream",
     "text": [
      "<ipython-input-8-7a54e4891cdd>:28: FutureWarning: The default value of regex will change from True to False in a future version.\n",
      "  eng_review['review'] = eng_review['review'].str.replace(r'[^A-Za-z0-9]',' ')\n"
     ]
    },
    {
     "data": {
      "text/html": [
       "<div>\n",
       "<style scoped>\n",
       "    .dataframe tbody tr th:only-of-type {\n",
       "        vertical-align: middle;\n",
       "    }\n",
       "\n",
       "    .dataframe tbody tr th {\n",
       "        vertical-align: top;\n",
       "    }\n",
       "\n",
       "    .dataframe thead th {\n",
       "        text-align: right;\n",
       "    }\n",
       "</style>\n",
       "<table border=\"1\" class=\"dataframe\">\n",
       "  <thead>\n",
       "    <tr style=\"text-align: right;\">\n",
       "      <th></th>\n",
       "      <th>name</th>\n",
       "      <th>rating</th>\n",
       "      <th>review</th>\n",
       "      <th>date</th>\n",
       "    </tr>\n",
       "  </thead>\n",
       "  <tbody>\n",
       "    <tr>\n",
       "      <th>189</th>\n",
       "      <td>山賊王</td>\n",
       "      <td>3 stars</td>\n",
       "      <td></td>\n",
       "      <td>9 months ago</td>\n",
       "    </tr>\n",
       "    <tr>\n",
       "      <th>220</th>\n",
       "      <td>Lena Yamaguchi</td>\n",
       "      <td>4 stars</td>\n",
       "      <td>my trip</td>\n",
       "      <td>10 months ago</td>\n",
       "    </tr>\n",
       "    <tr>\n",
       "      <th>257</th>\n",
       "      <td>Kims' Chronicles</td>\n",
       "      <td>4 stars</td>\n",
       "      <td>this beach is great for families  ewpecially w...</td>\n",
       "      <td>11 months ago</td>\n",
       "    </tr>\n",
       "  </tbody>\n",
       "</table>\n",
       "</div>"
      ],
      "text/plain": [
       "                 name     rating  \\\n",
       "189               山賊王   3 stars    \n",
       "220    Lena Yamaguchi   4 stars    \n",
       "257  Kims' Chronicles   4 stars    \n",
       "\n",
       "                                                review           date  \n",
       "189                                                      9 months ago  \n",
       "220                                           my trip   10 months ago  \n",
       "257  this beach is great for families  ewpecially w...  11 months ago  "
      ]
     },
     "execution_count": 8,
     "metadata": {},
     "output_type": "execute_result"
    }
   ],
   "source": [
    "# remove korean name\n",
    "eng_review['name2'] = eng_review['name'].str.findall(r'[ㄱ-ㅎㅏ-ㅣ가-힣]')\n",
    "\n",
    "eng_review = eng_review[eng_review['name2'].str.len() == 0]\n",
    "\n",
    "# remove korean review\n",
    "eng_review['review2'] = eng_review['review'].str.findall(r'[ㄱ-ㅎㅏ-ㅣ가-힣]')\n",
    "\n",
    "eng_review = eng_review[eng_review['review2'].str.len() == 0]\n",
    "\n",
    "# remove name2 & review2 columns\n",
    "eng_review.drop(['name2','review2'],axis=1, inplace=True)\n",
    "\n",
    "# remove unreviewed data\n",
    "eng_review = eng_review[eng_review['review'].str.len()!=0]\n",
    "\n",
    "# remove \"(Translated by Google)\" sentence\n",
    "eng_review['review'] = eng_review['review'].str.replace('(Translated by Google) ','',regex=False)\n",
    "\n",
    "# delete from \"Original\" to last word\n",
    "eng_review['review'] = eng_review['review'].str.split('\\(Original\\)')\n",
    "eng_review['review'] = [item[0] for item in eng_review['review']]\n",
    "\n",
    "# delete side blank and \"\\n\"\n",
    "eng_review['review'] = eng_review['review'].str.strip()\n",
    "\n",
    "# remove special characters\n",
    "eng_review['review'] = eng_review['review'].str.replace(r'[^A-Za-z0-9]',' ')\n",
    "\n",
    "# replace with lowercase\n",
    "eng_review['review'] = eng_review['review'].str.lower()\n",
    "\n",
    "print(len(eng_review))\n",
    "eng_review.head()"
   ]
  },
  {
   "cell_type": "code",
   "execution_count": 9,
   "metadata": {
    "ExecuteTime": {
     "end_time": "2022-08-09T11:07:06.021544Z",
     "start_time": "2022-08-09T11:07:05.979544Z"
    }
   },
   "outputs": [
    {
     "data": {
      "text/html": [
       "<div>\n",
       "<style scoped>\n",
       "    .dataframe tbody tr th:only-of-type {\n",
       "        vertical-align: middle;\n",
       "    }\n",
       "\n",
       "    .dataframe tbody tr th {\n",
       "        vertical-align: top;\n",
       "    }\n",
       "\n",
       "    .dataframe thead th {\n",
       "        text-align: right;\n",
       "    }\n",
       "</style>\n",
       "<table border=\"1\" class=\"dataframe\">\n",
       "  <thead>\n",
       "    <tr style=\"text-align: right;\">\n",
       "      <th></th>\n",
       "      <th>name</th>\n",
       "      <th>rating</th>\n",
       "      <th>review</th>\n",
       "      <th>date</th>\n",
       "    </tr>\n",
       "  </thead>\n",
       "  <tbody>\n",
       "    <tr>\n",
       "      <th>189</th>\n",
       "      <td>山賊王</td>\n",
       "      <td>3 stars</td>\n",
       "      <td></td>\n",
       "      <td>9 months ago</td>\n",
       "    </tr>\n",
       "    <tr>\n",
       "      <th>220</th>\n",
       "      <td>Lena Yamaguchi</td>\n",
       "      <td>4 stars</td>\n",
       "      <td>my trip</td>\n",
       "      <td>10 months ago</td>\n",
       "    </tr>\n",
       "    <tr>\n",
       "      <th>257</th>\n",
       "      <td>Kims' Chronicles</td>\n",
       "      <td>4 stars</td>\n",
       "      <td>this beach is great for families  ewpecially w...</td>\n",
       "      <td>11 months ago</td>\n",
       "    </tr>\n",
       "  </tbody>\n",
       "</table>\n",
       "</div>"
      ],
      "text/plain": [
       "                 name     rating  \\\n",
       "189               山賊王   3 stars    \n",
       "220    Lena Yamaguchi   4 stars    \n",
       "257  Kims' Chronicles   4 stars    \n",
       "\n",
       "                                                review           date  \n",
       "189                                                      9 months ago  \n",
       "220                                           my trip   10 months ago  \n",
       "257  this beach is great for families  ewpecially w...  11 months ago  "
      ]
     },
     "execution_count": 9,
     "metadata": {},
     "output_type": "execute_result"
    }
   ],
   "source": [
    "eng_review.tail(10)"
   ]
  },
  {
   "cell_type": "code",
   "execution_count": 10,
   "metadata": {
    "ExecuteTime": {
     "end_time": "2022-08-09T11:07:06.053562Z",
     "start_time": "2022-08-09T11:07:06.031543Z"
    }
   },
   "outputs": [],
   "source": [
    "eng_review.to_csv(\"아야진해수욕장.csv\", encoding=\"utf-8\")"
   ]
  },
  {
   "cell_type": "markdown",
   "metadata": {},
   "source": [
    "=================================================================================="
   ]
  }
 ],
 "metadata": {
  "hide_input": false,
  "kernelspec": {
   "display_name": "Python 3",
   "language": "python",
   "name": "python3"
  },
  "language_info": {
   "codemirror_mode": {
    "name": "ipython",
    "version": 3
   },
   "file_extension": ".py",
   "mimetype": "text/x-python",
   "name": "python",
   "nbconvert_exporter": "python",
   "pygments_lexer": "ipython3",
   "version": "3.8.5"
  },
  "toc": {
   "base_numbering": 1,
   "nav_menu": {},
   "number_sections": true,
   "sideBar": true,
   "skip_h1_title": false,
   "title_cell": "Table of Contents",
   "title_sidebar": "Contents",
   "toc_cell": false,
   "toc_position": {},
   "toc_section_display": true,
   "toc_window_display": false
  },
  "varInspector": {
   "cols": {
    "lenName": 16,
    "lenType": 16,
    "lenVar": 40
   },
   "kernels_config": {
    "python": {
     "delete_cmd_postfix": "",
     "delete_cmd_prefix": "del ",
     "library": "var_list.py",
     "varRefreshCmd": "print(var_dic_list())"
    },
    "r": {
     "delete_cmd_postfix": ") ",
     "delete_cmd_prefix": "rm(",
     "library": "var_list.r",
     "varRefreshCmd": "cat(var_dic_list()) "
    }
   },
   "types_to_exclude": [
    "module",
    "function",
    "builtin_function_or_method",
    "instance",
    "_Feature"
   ],
   "window_display": false
  }
 },
 "nbformat": 4,
 "nbformat_minor": 4
}
