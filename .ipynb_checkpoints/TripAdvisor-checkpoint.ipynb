{
 "cells": [
  {
   "cell_type": "code",
   "execution_count": 1,
   "metadata": {
    "ExecuteTime": {
     "end_time": "2022-08-17T11:05:45.113942Z",
     "start_time": "2022-08-17T11:05:43.962716Z"
    }
   },
   "outputs": [],
   "source": [
    "import pandas as pd\n",
    "import numpy as np\n",
    "\n",
    "import time\n",
    "\n",
    "\n",
    "from bs4 import BeautifulSoup\n",
    "from selenium import webdriver\n",
    "from selenium.webdriver.chrome.options import Options\n",
    "\n",
    "from selenium.webdriver.common.by import By  # 3개는 selenium이 동작하면서 웹 화면이 로딩될때 까지 기다림을 지원\n",
    "from selenium.webdriver.support.ui import WebDriverWait # 웹 드라이버 미리 설치\n",
    "from selenium.webdriver.support import expected_conditions as EC            # support안에 있는 expected_conditions를 EC로 선언\n"
   ]
  },
  {
   "cell_type": "code",
   "execution_count": 11,
   "metadata": {
    "ExecuteTime": {
     "end_time": "2022-08-17T11:20:00.294110Z",
     "start_time": "2022-08-17T11:19:50.857972Z"
    }
   },
   "outputs": [],
   "source": [
    "driver = webdriver.Chrome('C:/Users/YOONSU/chromedriver.exe')\n",
    "map_url = \"https://www.tripadvisor.com/Attraction_Review-g1074141-d6208734-Reviews-Chuam_Beach-Donghae_Gangwon_do.html\"\n",
    "driver.get(map_url) # 파이팅!!!!!!!!!!\n",
    "driver.maximize_window()\n",
    "time.sleep(5)"
   ]
  },
  {
   "cell_type": "code",
   "execution_count": 12,
   "metadata": {
    "ExecuteTime": {
     "end_time": "2022-08-17T11:20:12.847806Z",
     "start_time": "2022-08-17T11:20:00.331099Z"
    }
   },
   "outputs": [],
   "source": [
    "box_list = []\n",
    "name_list = []\n",
    "stars_list = []\n",
    "review_list = []\n",
    "date_list = []\n",
    "title_list = []\n",
    "\n",
    "num_page = 1\n",
    "i=0\n",
    "while (i<num_page):\n",
    "    \n",
    "    boxes = driver.find_elements_by_css_selector('div._c')\n",
    "\n",
    "    for box in boxes:\n",
    "        try:\n",
    "            more_btn = box.find_element_by_class_name('biGQs._P.XWJSj.Wb')\n",
    "            more_btn.click()\n",
    "            time.sleep(5)\n",
    "        except:\n",
    "            continue\n",
    "\n",
    "    for box in boxes:\n",
    "\n",
    "        IDs = box.find_elements_by_css_selector('span.biGQs._P.fiohW.fOtGX')\n",
    "        Dates = box.find_elements_by_class_name('biGQs._P.pZUbB.mowmC.osNWb')\n",
    "        Stars = box.find_elements_by_css_selector('svg.UctUV.d.H0')      \n",
    "        titles = box.find_elements_by_css_selector('span.yCeTE')\n",
    "        reviews = box.find_elements_by_class_name('biGQs._P.pZUbB.KxBGd')\n",
    "\n",
    "\n",
    "        for ID,Date,Star,title, review in zip(IDs, Dates, Stars, titles, reviews):\n",
    "            name_list.append(ID.text)\n",
    "            date_list.append(Date.text)\n",
    "            stars_list.append(Star.get_attribute('aria-label'))\n",
    "            title_list.append(title.text)\n",
    "            review_list.append(review.text)\n",
    "\n",
    "    time.sleep(3)\n",
    "    css1 = \"#tab-data-qa-reviews-0 > div > div.LbPSX > div:nth-child(11) > div:nth-child(2) > div > div.OvVFl.j > div.xkSty > div > a\"\n",
    "    try:\n",
    "        WebDriverWait(driver, 8).until(EC.presence_of_element_located((By.CSS_SELECTOR, css1))).click()\n",
    "        time.sleep(3)\n",
    "    except:\n",
    "        break\n",
    "    i += 1\n",
    "    \n",
    "review_data = pd.DataFrame(\n",
    "    {'name': name_list,\n",
    "     'rating': stars_list,\n",
    "     'title': title_list,\n",
    "     'review': review_list,\n",
    "     'date': date_list})"
   ]
  },
  {
   "cell_type": "code",
   "execution_count": 13,
   "metadata": {
    "ExecuteTime": {
     "end_time": "2022-08-17T11:20:15.777447Z",
     "start_time": "2022-08-17T11:20:15.756441Z"
    },
    "scrolled": true
   },
   "outputs": [
    {
     "data": {
      "text/html": [
       "<div>\n",
       "<style scoped>\n",
       "    .dataframe tbody tr th:only-of-type {\n",
       "        vertical-align: middle;\n",
       "    }\n",
       "\n",
       "    .dataframe tbody tr th {\n",
       "        vertical-align: top;\n",
       "    }\n",
       "\n",
       "    .dataframe thead th {\n",
       "        text-align: right;\n",
       "    }\n",
       "</style>\n",
       "<table border=\"1\" class=\"dataframe\">\n",
       "  <thead>\n",
       "    <tr style=\"text-align: right;\">\n",
       "      <th></th>\n",
       "      <th>name</th>\n",
       "      <th>rating</th>\n",
       "      <th>title</th>\n",
       "      <th>review</th>\n",
       "      <th>date</th>\n",
       "    </tr>\n",
       "  </thead>\n",
       "  <tbody>\n",
       "    <tr>\n",
       "      <th>0</th>\n",
       "      <td>Imatiti</td>\n",
       "      <td>5.0 of 5 bubbles</td>\n",
       "      <td>Look round too~</td>\n",
       "      <td>Like most people, when you go to the beach we ...</td>\n",
       "      <td>Written July 10, 2020</td>\n",
       "    </tr>\n",
       "    <tr>\n",
       "      <th>1</th>\n",
       "      <td>The Soul Of Seoul</td>\n",
       "      <td>5.0 of 5 bubbles</td>\n",
       "      <td>Amazing seaside spot</td>\n",
       "      <td>Chuam was such a fun beach spot. There’s a bea...</td>\n",
       "      <td>Written July 3, 2020</td>\n",
       "    </tr>\n",
       "    <tr>\n",
       "      <th>2</th>\n",
       "      <td>Agata0710</td>\n",
       "      <td>5.0 of 5 bubbles</td>\n",
       "      <td>A healing location</td>\n",
       "      <td>We visited Chuam beach last weekend and totall...</td>\n",
       "      <td>Written July 3, 2020</td>\n",
       "    </tr>\n",
       "    <tr>\n",
       "      <th>3</th>\n",
       "      <td>CanisHan</td>\n",
       "      <td>4.0 of 5 bubbles</td>\n",
       "      <td>Small and beautiful beach.</td>\n",
       "      <td>CC+c ( 19.05.17 )\\nMy family visited this beac...</td>\n",
       "      <td>Written May 20, 2019</td>\n",
       "    </tr>\n",
       "    <tr>\n",
       "      <th>4</th>\n",
       "      <td>LiketoeatCincinnati</td>\n",
       "      <td>5.0 of 5 bubbles</td>\n",
       "      <td>Beautiful Beach</td>\n",
       "      <td>This is a very beautiful beach right near the ...</td>\n",
       "      <td>Written October 25, 2016</td>\n",
       "    </tr>\n",
       "    <tr>\n",
       "      <th>5</th>\n",
       "      <td>Afiqah A</td>\n",
       "      <td>4.0 of 5 bubbles</td>\n",
       "      <td>Day is better than night</td>\n",
       "      <td>It is recommended to go there in the day rathe...</td>\n",
       "      <td>Written September 16, 2016</td>\n",
       "    </tr>\n",
       "    <tr>\n",
       "      <th>6</th>\n",
       "      <td>LoodNagel</td>\n",
       "      <td>4.0 of 5 bubbles</td>\n",
       "      <td>Beautiful beach</td>\n",
       "      <td>Beautiful and busy beach. Lots of umbrella and...</td>\n",
       "      <td>Written August 20, 2016</td>\n",
       "    </tr>\n",
       "    <tr>\n",
       "      <th>7</th>\n",
       "      <td>Marimer R</td>\n",
       "      <td>5.0 of 5 bubbles</td>\n",
       "      <td>Far East coast</td>\n",
       "      <td>Clear water, Great scenic view,Good food and F...</td>\n",
       "      <td>Written August 10, 2016</td>\n",
       "    </tr>\n",
       "    <tr>\n",
       "      <th>8</th>\n",
       "      <td>SHIRLEY_LYY</td>\n",
       "      <td>5.0 of 5 bubbles</td>\n",
       "      <td>Relaxing afternoon at Chuam Beach</td>\n",
       "      <td>This is a wonderful place to relax and enjoy t...</td>\n",
       "      <td>Written July 16, 2016</td>\n",
       "    </tr>\n",
       "  </tbody>\n",
       "</table>\n",
       "</div>"
      ],
      "text/plain": [
       "                  name            rating                              title  \\\n",
       "0              Imatiti  5.0 of 5 bubbles                    Look round too~   \n",
       "1    The Soul Of Seoul  5.0 of 5 bubbles               Amazing seaside spot   \n",
       "2            Agata0710  5.0 of 5 bubbles                 A healing location   \n",
       "3             CanisHan  4.0 of 5 bubbles         Small and beautiful beach.   \n",
       "4  LiketoeatCincinnati  5.0 of 5 bubbles                    Beautiful Beach   \n",
       "5             Afiqah A  4.0 of 5 bubbles           Day is better than night   \n",
       "6            LoodNagel  4.0 of 5 bubbles                    Beautiful beach   \n",
       "7            Marimer R  5.0 of 5 bubbles                     Far East coast   \n",
       "8          SHIRLEY_LYY  5.0 of 5 bubbles  Relaxing afternoon at Chuam Beach   \n",
       "\n",
       "                                              review  \\\n",
       "0  Like most people, when you go to the beach we ...   \n",
       "1  Chuam was such a fun beach spot. There’s a bea...   \n",
       "2  We visited Chuam beach last weekend and totall...   \n",
       "3  CC+c ( 19.05.17 )\\nMy family visited this beac...   \n",
       "4  This is a very beautiful beach right near the ...   \n",
       "5  It is recommended to go there in the day rathe...   \n",
       "6  Beautiful and busy beach. Lots of umbrella and...   \n",
       "7  Clear water, Great scenic view,Good food and F...   \n",
       "8  This is a wonderful place to relax and enjoy t...   \n",
       "\n",
       "                         date  \n",
       "0       Written July 10, 2020  \n",
       "1        Written July 3, 2020  \n",
       "2        Written July 3, 2020  \n",
       "3        Written May 20, 2019  \n",
       "4    Written October 25, 2016  \n",
       "5  Written September 16, 2016  \n",
       "6     Written August 20, 2016  \n",
       "7     Written August 10, 2016  \n",
       "8       Written July 16, 2016  "
      ]
     },
     "execution_count": 13,
     "metadata": {},
     "output_type": "execute_result"
    }
   ],
   "source": [
    "pd.set_option('display.max_rows', None)\n",
    "review_data"
   ]
  },
  {
   "cell_type": "code",
   "execution_count": 14,
   "metadata": {
    "ExecuteTime": {
     "end_time": "2022-08-17T11:20:36.100446Z",
     "start_time": "2022-08-17T11:20:36.092444Z"
    }
   },
   "outputs": [],
   "source": [
    "eng_review = review_data.copy()"
   ]
  },
  {
   "cell_type": "code",
   "execution_count": 15,
   "metadata": {
    "ExecuteTime": {
     "end_time": "2022-08-17T11:20:40.614136Z",
     "start_time": "2022-08-17T11:20:40.546135Z"
    }
   },
   "outputs": [
    {
     "name": "stdout",
     "output_type": "stream",
     "text": [
      "9\n"
     ]
    },
    {
     "data": {
      "text/html": [
       "<div>\n",
       "<style scoped>\n",
       "    .dataframe tbody tr th:only-of-type {\n",
       "        vertical-align: middle;\n",
       "    }\n",
       "\n",
       "    .dataframe tbody tr th {\n",
       "        vertical-align: top;\n",
       "    }\n",
       "\n",
       "    .dataframe thead th {\n",
       "        text-align: right;\n",
       "    }\n",
       "</style>\n",
       "<table border=\"1\" class=\"dataframe\">\n",
       "  <thead>\n",
       "    <tr style=\"text-align: right;\">\n",
       "      <th></th>\n",
       "      <th>name</th>\n",
       "      <th>rating</th>\n",
       "      <th>title</th>\n",
       "      <th>review</th>\n",
       "      <th>date</th>\n",
       "    </tr>\n",
       "  </thead>\n",
       "  <tbody>\n",
       "    <tr>\n",
       "      <th>0</th>\n",
       "      <td>Imatiti</td>\n",
       "      <td>5.0 of 5 bubbles</td>\n",
       "      <td>Look round too~</td>\n",
       "      <td>like most people  when you go to the beach we ...</td>\n",
       "      <td>July 10, 2020</td>\n",
       "    </tr>\n",
       "    <tr>\n",
       "      <th>1</th>\n",
       "      <td>The Soul Of Seoul</td>\n",
       "      <td>5.0 of 5 bubbles</td>\n",
       "      <td>Amazing seaside spot</td>\n",
       "      <td>chuam was such a fun beach spot  there s a bea...</td>\n",
       "      <td>July 3, 2020</td>\n",
       "    </tr>\n",
       "    <tr>\n",
       "      <th>2</th>\n",
       "      <td>Agata0710</td>\n",
       "      <td>5.0 of 5 bubbles</td>\n",
       "      <td>A healing location</td>\n",
       "      <td>we visited chuam beach last weekend and totall...</td>\n",
       "      <td>July 3, 2020</td>\n",
       "    </tr>\n",
       "    <tr>\n",
       "      <th>3</th>\n",
       "      <td>CanisHan</td>\n",
       "      <td>4.0 of 5 bubbles</td>\n",
       "      <td>Small and beautiful beach.</td>\n",
       "      <td>cc c   19 05 17   my family visited this beach...</td>\n",
       "      <td>May 20, 2019</td>\n",
       "    </tr>\n",
       "    <tr>\n",
       "      <th>4</th>\n",
       "      <td>LiketoeatCincinnati</td>\n",
       "      <td>5.0 of 5 bubbles</td>\n",
       "      <td>Beautiful Beach</td>\n",
       "      <td>this is a very beautiful beach right near the ...</td>\n",
       "      <td>October 25, 2016</td>\n",
       "    </tr>\n",
       "  </tbody>\n",
       "</table>\n",
       "</div>"
      ],
      "text/plain": [
       "                  name            rating                       title  \\\n",
       "0              Imatiti  5.0 of 5 bubbles             Look round too~   \n",
       "1    The Soul Of Seoul  5.0 of 5 bubbles        Amazing seaside spot   \n",
       "2            Agata0710  5.0 of 5 bubbles          A healing location   \n",
       "3             CanisHan  4.0 of 5 bubbles  Small and beautiful beach.   \n",
       "4  LiketoeatCincinnati  5.0 of 5 bubbles             Beautiful Beach   \n",
       "\n",
       "                                              review              date  \n",
       "0  like most people  when you go to the beach we ...     July 10, 2020  \n",
       "1  chuam was such a fun beach spot  there s a bea...      July 3, 2020  \n",
       "2  we visited chuam beach last weekend and totall...      July 3, 2020  \n",
       "3  cc c   19 05 17   my family visited this beach...      May 20, 2019  \n",
       "4  this is a very beautiful beach right near the ...  October 25, 2016  "
      ]
     },
     "execution_count": 15,
     "metadata": {},
     "output_type": "execute_result"
    }
   ],
   "source": [
    "# remove not english sentence & special characters\n",
    "eng_review['review'] = eng_review['review'].str.replace(r'[^A-Za-z0-9]',' ', regex=True)\n",
    "\n",
    "# delete side blank and \"\\n\"\n",
    "eng_review['review'] = eng_review['review'].str.strip()\n",
    "\n",
    "# replace with lowercase\n",
    "eng_review['review'] = eng_review['review'].str.lower()\n",
    "\n",
    "#date에서 Written 없애기\n",
    "eng_review['date'] = eng_review['date'].str.replace('Written ','')\n",
    "\n",
    "print(len(eng_review))\n",
    "eng_review.head()"
   ]
  },
  {
   "cell_type": "code",
   "execution_count": null,
   "metadata": {},
   "outputs": [],
   "source": [
    "#다 바꿔야함\n",
    "eng_review['attraction'] = '추암해변'\n",
    "eng_review['address'] = '강원 동해시 북평동'\n",
    "eng_review['latitude'] = #38.1619614\n",
    "eng_review['longitude'] = #128.4420869\n",
    "#eng_review.to_csv(\"설악산권금성.csv\", encoding=\"utf-8\", index = None) #맥북 기준\n",
    "eng_review.to_csv(\"Ojukheon.csv\", encoding=\"cp949\", index = None) window 기준"
   ]
  },
  {
   "cell_type": "markdown",
   "metadata": {},
   "source": [
    "=========================================================================="
   ]
  }
 ],
 "metadata": {
  "hide_input": false,
  "kernelspec": {
   "display_name": "Python 3",
   "language": "python",
   "name": "python3"
  },
  "language_info": {
   "codemirror_mode": {
    "name": "ipython",
    "version": 3
   },
   "file_extension": ".py",
   "mimetype": "text/x-python",
   "name": "python",
   "nbconvert_exporter": "python",
   "pygments_lexer": "ipython3",
   "version": "3.8.5"
  },
  "toc": {
   "base_numbering": 1,
   "nav_menu": {},
   "number_sections": true,
   "sideBar": true,
   "skip_h1_title": false,
   "title_cell": "Table of Contents",
   "title_sidebar": "Contents",
   "toc_cell": false,
   "toc_position": {},
   "toc_section_display": true,
   "toc_window_display": false
  },
  "varInspector": {
   "cols": {
    "lenName": 16,
    "lenType": 16,
    "lenVar": 40
   },
   "kernels_config": {
    "python": {
     "delete_cmd_postfix": "",
     "delete_cmd_prefix": "del ",
     "library": "var_list.py",
     "varRefreshCmd": "print(var_dic_list())"
    },
    "r": {
     "delete_cmd_postfix": ") ",
     "delete_cmd_prefix": "rm(",
     "library": "var_list.r",
     "varRefreshCmd": "cat(var_dic_list()) "
    }
   },
   "types_to_exclude": [
    "module",
    "function",
    "builtin_function_or_method",
    "instance",
    "_Feature"
   ],
   "window_display": false
  }
 },
 "nbformat": 4,
 "nbformat_minor": 4
}
