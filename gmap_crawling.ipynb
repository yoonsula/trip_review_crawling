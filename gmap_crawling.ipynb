{
 "cells": [
  {
   "cell_type": "code",
   "execution_count": 5,
   "metadata": {
    "ExecuteTime": {
     "end_time": "2022-08-04T02:37:25.720374Z",
     "start_time": "2022-08-04T02:37:25.710907Z"
    }
   },
   "outputs": [],
   "source": [
    "import pandas as pd\n",
    "import numpy as np\n",
    "\n",
    "import time\n",
    "\n",
    "\n",
    "from bs4 import BeautifulSoup\n",
    "from selenium import webdriver\n",
    "from selenium.webdriver.chrome.options import Options\n",
    "from selenium.webdriver import ActionChains\n",
    "from selenium.webdriver.common.keys import Keys\n",
    "from selenium.webdriver.common.by import By  # 3개는 selenium이 동작하면서 웹 화면이 로딩될때 까지 기다림을 지원\n",
    "from selenium.webdriver.support.ui import WebDriverWait # 웹 드라이버 미리 설치\n",
    "from selenium.webdriver.support import expected_conditions as EC       "
   ]
  },
  {
   "cell_type": "code",
   "execution_count": 8,
   "metadata": {
    "ExecuteTime": {
     "end_time": "2022-08-04T02:42:58.315976Z",
     "start_time": "2022-08-04T02:42:38.758211Z"
    }
   },
   "outputs": [],
   "source": [
    "driver = webdriver.Chrome('C:/Users/YOONSU/chromedriver.exe')\n",
    "driver.get(\"https://www.google.com/maps/place/Aqua+Planet+Yeosu/data=!4m11!1m2!2m1!1syeosu+attraction!3m7!1s0x356dd8eba5c56e8b:0x3d8e19806e447ecf!8m2!3d34.7465018!4d127.7483355!9m1!1b1!15sChB5ZW9zdSBhdHRyYWN0aW9uWhIiEHllb3N1IGF0dHJhY3Rpb26SAQhhcXVhcml1bQ\")\n",
    "driver.maximize_window()\n",
    "time.sleep(10)\n",
    "\n",
    "# sort to recent review \n",
    "wait = WebDriverWait(driver, 10)\n",
    "menu_bt = wait.until(EC.element_to_be_clickable(\n",
    "                       (By.XPATH, '//button[@data-value=\\'정렬\\']'))\n",
    "                   )  \n",
    "menu_bt.click()\n",
    "\n",
    "recent_rating_bt = driver.find_elements_by_xpath(\n",
    "                                     '//li[@role=\\'menuitemradio\\']')[1]\n",
    "recent_rating_bt.click()\n",
    "time.sleep(5)"
   ]
  },
  {
   "cell_type": "code",
   "execution_count": 10,
   "metadata": {
    "ExecuteTime": {
     "end_time": "2022-08-04T02:43:44.597910Z",
     "start_time": "2022-08-04T02:43:09.360334Z"
    }
   },
   "outputs": [],
   "source": [
    "# scroll code\n",
    "# total 100 review (10 reviews per 1 page)\n",
    "i = 0\n",
    "while i<10:\n",
    "    buffer = driver.find_elements_by_class_name('qjESne') # buffer location\n",
    "    time.sleep(1)\n",
    "    action = ActionChains(driver)\n",
    "\n",
    "    n =len(b_list)\n",
    "    action.move_to_element(buffer[n-1]).perform() # move to last buffer\n",
    "    time.sleep(1)\n",
    "    i += 1"
   ]
  },
  {
   "cell_type": "code",
   "execution_count": 14,
   "metadata": {
    "ExecuteTime": {
     "end_time": "2022-08-04T02:44:06.585659Z",
     "start_time": "2022-08-04T02:44:06.553354Z"
    }
   },
   "outputs": [],
   "source": [
    "box_list = []\n",
    "name_list = []\n",
    "stars_list = []\n",
    "review_list = []\n",
    "date_list = []\n",
    "\n",
    "boxes = driver.find_elements_by_class_name('jftiEf.fontBodyMedium') # review class"
   ]
  },
  {
   "cell_type": "code",
   "execution_count": 15,
   "metadata": {
    "ExecuteTime": {
     "end_time": "2022-08-04T02:45:26.935638Z",
     "start_time": "2022-08-04T02:44:09.797846Z"
    }
   },
   "outputs": [
    {
     "data": {
      "text/html": [
       "<div>\n",
       "<style scoped>\n",
       "    .dataframe tbody tr th:only-of-type {\n",
       "        vertical-align: middle;\n",
       "    }\n",
       "\n",
       "    .dataframe tbody tr th {\n",
       "        vertical-align: top;\n",
       "    }\n",
       "\n",
       "    .dataframe thead th {\n",
       "        text-align: right;\n",
       "    }\n",
       "</style>\n",
       "<table border=\"1\" class=\"dataframe\">\n",
       "  <thead>\n",
       "    <tr style=\"text-align: right;\">\n",
       "      <th></th>\n",
       "      <th>name</th>\n",
       "      <th>rating</th>\n",
       "      <th>review</th>\n",
       "      <th>date</th>\n",
       "    </tr>\n",
       "  </thead>\n",
       "  <tbody>\n",
       "    <tr>\n",
       "      <th>0</th>\n",
       "      <td>이수애</td>\n",
       "      <td>별표 3개</td>\n",
       "      <td>공연도보고실내물고기도보고쪼금아쉬운것은다니다보면쪼금해깔림\\n눈으로보는게조금부족한것간네요</td>\n",
       "      <td>19분 전</td>\n",
       "    </tr>\n",
       "    <tr>\n",
       "      <th>1</th>\n",
       "      <td>Eunji Lee</td>\n",
       "      <td>별표 1개</td>\n",
       "      <td>물범이 너무 귀엽습니다.\\n그래도 재미있게 구경 하고 돌아갔습니다.</td>\n",
       "      <td>15시간 전</td>\n",
       "    </tr>\n",
       "    <tr>\n",
       "      <th>2</th>\n",
       "      <td>Jong-Ho Kang</td>\n",
       "      <td>별표 4개</td>\n",
       "      <td>아이때문에 수년간 자주오고있습니다.\\n아직 잘 관리되고있네요.</td>\n",
       "      <td>15시간 전</td>\n",
       "    </tr>\n",
       "    <tr>\n",
       "      <th>3</th>\n",
       "      <td>홍동윤</td>\n",
       "      <td>별표 5개</td>\n",
       "      <td>제주도보다 잘꾸며져있는거같네요\\n중간에 마술쇼랑 공연도 진행되고\\n잘꾸며논거같아요</td>\n",
       "      <td>17시간 전</td>\n",
       "    </tr>\n",
       "    <tr>\n",
       "      <th>4</th>\n",
       "      <td>전형모</td>\n",
       "      <td>별표 5개</td>\n",
       "      <td></td>\n",
       "      <td>18시간 전</td>\n",
       "    </tr>\n",
       "    <tr>\n",
       "      <th>...</th>\n",
       "      <td>...</td>\n",
       "      <td>...</td>\n",
       "      <td>...</td>\n",
       "      <td>...</td>\n",
       "    </tr>\n",
       "    <tr>\n",
       "      <th>95</th>\n",
       "      <td>Inseon Kim</td>\n",
       "      <td>별표 5개</td>\n",
       "      <td>규모도 큰편입니다.\\n아이들이 보고 체험할곳도있고요.\\n주차는 유료주차장이 좀걸으면...</td>\n",
       "      <td>1달 전</td>\n",
       "    </tr>\n",
       "    <tr>\n",
       "      <th>96</th>\n",
       "      <td>치킨마스터</td>\n",
       "      <td>별표 5개</td>\n",
       "      <td></td>\n",
       "      <td>1달 전</td>\n",
       "    </tr>\n",
       "    <tr>\n",
       "      <th>97</th>\n",
       "      <td>양주무한</td>\n",
       "      <td>별표 4개</td>\n",
       "      <td>여수에 방문하면 점심쯤에 잠깐 구경하기 좋은 코스입니다. 여기 갔다가 만성리 검은모...</td>\n",
       "      <td>1달 전</td>\n",
       "    </tr>\n",
       "    <tr>\n",
       "      <th>98</th>\n",
       "      <td>실간이</td>\n",
       "      <td>별표 4개</td>\n",
       "      <td></td>\n",
       "      <td>1달 전</td>\n",
       "    </tr>\n",
       "    <tr>\n",
       "      <th>99</th>\n",
       "      <td>Kirill Pushlin</td>\n",
       "      <td>별표 5개</td>\n",
       "      <td></td>\n",
       "      <td>1달 전</td>\n",
       "    </tr>\n",
       "  </tbody>\n",
       "</table>\n",
       "<p>100 rows × 4 columns</p>\n",
       "</div>"
      ],
      "text/plain": [
       "              name   rating  \\\n",
       "0              이수애   별표 3개    \n",
       "1        Eunji Lee   별표 1개    \n",
       "2     Jong-Ho Kang   별표 4개    \n",
       "3              홍동윤   별표 5개    \n",
       "4              전형모   별표 5개    \n",
       "..             ...      ...   \n",
       "95      Inseon Kim   별표 5개    \n",
       "96           치킨마스터   별표 5개    \n",
       "97            양주무한   별표 4개    \n",
       "98             실간이   별표 4개    \n",
       "99  Kirill Pushlin   별표 5개    \n",
       "\n",
       "                                               review    date  \n",
       "0     공연도보고실내물고기도보고쪼금아쉬운것은다니다보면쪼금해깔림\\n눈으로보는게조금부족한것간네요   19분 전  \n",
       "1               물범이 너무 귀엽습니다.\\n그래도 재미있게 구경 하고 돌아갔습니다.  15시간 전  \n",
       "2                  아이때문에 수년간 자주오고있습니다.\\n아직 잘 관리되고있네요.  15시간 전  \n",
       "3       제주도보다 잘꾸며져있는거같네요\\n중간에 마술쇼랑 공연도 진행되고\\n잘꾸며논거같아요  17시간 전  \n",
       "4                                                      18시간 전  \n",
       "..                                                ...     ...  \n",
       "95  규모도 큰편입니다.\\n아이들이 보고 체험할곳도있고요.\\n주차는 유료주차장이 좀걸으면...    1달 전  \n",
       "96                                                       1달 전  \n",
       "97  여수에 방문하면 점심쯤에 잠깐 구경하기 좋은 코스입니다. 여기 갔다가 만성리 검은모...    1달 전  \n",
       "98                                                       1달 전  \n",
       "99                                                       1달 전  \n",
       "\n",
       "[100 rows x 4 columns]"
      ]
     },
     "execution_count": 15,
     "metadata": {},
     "output_type": "execute_result"
    }
   ],
   "source": [
    "# more butten click\n",
    "for box in boxes:\n",
    "    try:\n",
    "        more_btn = box.find_element_by_class_name('w8nwRe.kyuRq')\n",
    "        more_btn.click()\n",
    "        time.sleep(5)\n",
    "    except:\n",
    "        continue\n",
    "# review collection\n",
    "for box in boxes:\n",
    "    \n",
    "    IDs = box.find_elements_by_class_name('d4r55')\n",
    "        \n",
    "    Dates = box.find_elements_by_class_name('rsqaWe')\n",
    "        \n",
    "    Stars = box.find_elements_by_class_name('kvMYJc')\n",
    "        \n",
    "    reviews = box.find_elements_by_class_name('wiI7pd')\n",
    "    \n",
    "    for ID,Date,Star,review in zip(IDs, Dates, Stars, reviews):\n",
    "        name_list.append(ID.text)\n",
    "        date_list.append(Date.text)\n",
    "        stars_list.append(Star.get_attribute('aria-label'))\n",
    "        review_list.append(review.text)\n",
    "\n",
    "# review list to dataframe\n",
    "review = pd.DataFrame(\n",
    "    {'name': name_list,\n",
    "     'rating': stars_list,\n",
    "     'review': review_list,\n",
    "     'date': date_list})\n",
    "review"
   ]
  },
  {
   "cell_type": "code",
   "execution_count": null,
   "metadata": {},
   "outputs": [],
   "source": [
    "review.to_csv(\"gmap_review.csv\")"
   ]
  },
  {
   "cell_type": "markdown",
   "metadata": {},
   "source": [
    "=================================================================================="
   ]
  }
 ],
 "metadata": {
  "hide_input": false,
  "kernelspec": {
   "display_name": "Python 3",
   "language": "python",
   "name": "python3"
  },
  "toc": {
   "base_numbering": 1,
   "nav_menu": {},
   "number_sections": true,
   "sideBar": true,
   "skip_h1_title": false,
   "title_cell": "Table of Contents",
   "title_sidebar": "Contents",
   "toc_cell": false,
   "toc_position": {},
   "toc_section_display": true,
   "toc_window_display": false
  },
  "varInspector": {
   "cols": {
    "lenName": 16,
    "lenType": 16,
    "lenVar": 40
   },
   "kernels_config": {
    "python": {
     "delete_cmd_postfix": "",
     "delete_cmd_prefix": "del ",
     "library": "var_list.py",
     "varRefreshCmd": "print(var_dic_list())"
    },
    "r": {
     "delete_cmd_postfix": ") ",
     "delete_cmd_prefix": "rm(",
     "library": "var_list.r",
     "varRefreshCmd": "cat(var_dic_list()) "
    }
   },
   "types_to_exclude": [
    "module",
    "function",
    "builtin_function_or_method",
    "instance",
    "_Feature"
   ],
   "window_display": false
  }
 },
 "nbformat": 4,
 "nbformat_minor": 4
}
