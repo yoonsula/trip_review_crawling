{
 "cells": [
  {
   "cell_type": "code",
   "execution_count": 1,
   "metadata": {
    "ExecuteTime": {
     "end_time": "2022-08-08T02:24:20.022408Z",
     "start_time": "2022-08-08T02:24:15.150720Z"
    }
   },
   "outputs": [],
   "source": [
    "import pandas as pd\n",
    "import numpy as np\n",
    "\n",
    "import time\n",
    "\n",
    "\n",
    "from bs4 import BeautifulSoup\n",
    "from selenium import webdriver\n",
    "from selenium.webdriver.chrome.options import Options\n",
    "from selenium.webdriver import ActionChains\n",
    "from selenium.webdriver.common.keys import Keys\n",
    "from selenium.webdriver.common.by import By  # 3개는 selenium이 동작하면서 웹 화면이 로딩될때 까지 기다림을 지원\n",
    "from selenium.webdriver.support.ui import WebDriverWait # 웹 드라이버 미리 설치\n",
    "from selenium.webdriver.support import expected_conditions as EC       "
   ]
  },
  {
   "cell_type": "code",
   "execution_count": 7,
   "metadata": {
    "ExecuteTime": {
     "end_time": "2022-08-08T02:27:13.935478Z",
     "start_time": "2022-08-08T02:26:49.963153Z"
    }
   },
   "outputs": [],
   "source": [
    "driver = webdriver.Chrome('C:/Users/YOONSU/chromedriver.exe')\n",
    "driver.get(\"https://www.google.com/maps/place/Suwon+Hwaseong+Fortress,+Gyeonggi-do/data=!4m7!3m6!1s0x357b5cca0fa82ebb:0x1326e46ba3ed1641!8m2!3d37.2871202!4d127.0119379!9m1!1b1?hl=en\")\n",
    "driver.maximize_window()\n",
    "time.sleep(10)\n",
    "\n",
    "# sort to recent review \n",
    "wait = WebDriverWait(driver, 10)\n",
    "menu_bt = wait.until(EC.element_to_be_clickable(\n",
    "                       (By.XPATH, '//button[@data-value=\\'Sort\\']'))\n",
    "                   )  \n",
    "menu_bt.click()\n",
    "\n",
    "recent_rating_bt = driver.find_elements_by_xpath(\n",
    "                                     '//li[@role=\\'menuitemradio\\']')[1]\n",
    "recent_rating_bt.click()\n",
    "time.sleep(5)"
   ]
  },
  {
   "cell_type": "code",
   "execution_count": 8,
   "metadata": {
    "ExecuteTime": {
     "end_time": "2022-08-08T02:29:17.943431Z",
     "start_time": "2022-08-08T02:27:31.818991Z"
    }
   },
   "outputs": [],
   "source": [
    "# scroll code\n",
    "# total n review (10 reviews per 1 page)\n",
    "i = 0\n",
    "while i<30:\n",
    "    buffer = driver.find_elements_by_class_name('qjESne') # buffer location\n",
    "    time.sleep(1)\n",
    "    action = ActionChains(driver)\n",
    "\n",
    "    n =len(buffer)\n",
    "    action.move_to_element(buffer[n-1]).perform() # move to last buffer\n",
    "    time.sleep(1)\n",
    "    i += 1"
   ]
  },
  {
   "cell_type": "code",
   "execution_count": 9,
   "metadata": {
    "ExecuteTime": {
     "end_time": "2022-08-08T02:29:19.900930Z",
     "start_time": "2022-08-08T02:29:19.759855Z"
    }
   },
   "outputs": [],
   "source": [
    "box_list = []\n",
    "name_list = []\n",
    "stars_list = []\n",
    "review_list = []\n",
    "date_list = []\n",
    "\n",
    "boxes = driver.find_elements_by_class_name('jftiEf.fontBodyMedium') # review class"
   ]
  },
  {
   "cell_type": "code",
   "execution_count": 10,
   "metadata": {
    "ExecuteTime": {
     "end_time": "2022-08-08T02:42:12.683380Z",
     "start_time": "2022-08-08T02:29:21.383464Z"
    }
   },
   "outputs": [],
   "source": [
    "# more butten click\n",
    "for box in boxes:\n",
    "    try:\n",
    "        more_btn = box.find_element_by_class_name('w8nwRe.kyuRq')\n",
    "        more_btn.click()\n",
    "        time.sleep(5)\n",
    "    except:\n",
    "        continue\n",
    "# review collection\n",
    "for box in boxes:\n",
    "    \n",
    "    IDs = box.find_elements_by_class_name('d4r55')\n",
    "        \n",
    "    Dates = box.find_elements_by_class_name('rsqaWe')\n",
    "        \n",
    "    Stars = box.find_elements_by_class_name('kvMYJc')\n",
    "        \n",
    "    reviews = box.find_elements_by_class_name('wiI7pd')\n",
    "    \n",
    "    for ID,Date,Star,review in zip(IDs, Dates, Stars, reviews):\n",
    "        name_list.append(ID.text)\n",
    "        date_list.append(Date.text)\n",
    "        stars_list.append(Star.get_attribute('aria-label'))\n",
    "        review_list.append(review.text)"
   ]
  },
  {
   "cell_type": "code",
   "execution_count": 288,
   "metadata": {
    "ExecuteTime": {
     "end_time": "2022-08-08T07:50:16.132117Z",
     "start_time": "2022-08-08T07:50:16.101105Z"
    }
   },
   "outputs": [
    {
     "data": {
      "text/html": [
       "<div>\n",
       "<style scoped>\n",
       "    .dataframe tbody tr th:only-of-type {\n",
       "        vertical-align: middle;\n",
       "    }\n",
       "\n",
       "    .dataframe tbody tr th {\n",
       "        vertical-align: top;\n",
       "    }\n",
       "\n",
       "    .dataframe thead th {\n",
       "        text-align: right;\n",
       "    }\n",
       "</style>\n",
       "<table border=\"1\" class=\"dataframe\">\n",
       "  <thead>\n",
       "    <tr style=\"text-align: right;\">\n",
       "      <th></th>\n",
       "      <th>name</th>\n",
       "      <th>rating</th>\n",
       "      <th>review</th>\n",
       "      <th>date</th>\n",
       "    </tr>\n",
       "  </thead>\n",
       "  <tbody>\n",
       "    <tr>\n",
       "      <th>0</th>\n",
       "      <td>Sagar Mali</td>\n",
       "      <td>5 stars</td>\n",
       "      <td>This ks Unesco World Heritage Site. Get some Y...</td>\n",
       "      <td>17 hours ago</td>\n",
       "    </tr>\n",
       "    <tr>\n",
       "      <th>1</th>\n",
       "      <td>KBS 4</td>\n",
       "      <td>5 stars</td>\n",
       "      <td></td>\n",
       "      <td>2 days ago</td>\n",
       "    </tr>\n",
       "    <tr>\n",
       "      <th>2</th>\n",
       "      <td>onestar Jang</td>\n",
       "      <td>5 stars</td>\n",
       "      <td></td>\n",
       "      <td>2 days ago</td>\n",
       "    </tr>\n",
       "    <tr>\n",
       "      <th>3</th>\n",
       "      <td>레몬쥬스</td>\n",
       "      <td>5 stars</td>\n",
       "      <td></td>\n",
       "      <td>3 days ago</td>\n",
       "    </tr>\n",
       "    <tr>\n",
       "      <th>4</th>\n",
       "      <td>marina kwon</td>\n",
       "      <td>5 stars</td>\n",
       "      <td>(Translated by Google) It's cool.\\n\\n(Original...</td>\n",
       "      <td>3 days ago</td>\n",
       "    </tr>\n",
       "    <tr>\n",
       "      <th>5</th>\n",
       "      <td>Ian Jung</td>\n",
       "      <td>5 stars</td>\n",
       "      <td>(Translated by Google) No, can historical site...</td>\n",
       "      <td>5 days ago</td>\n",
       "    </tr>\n",
       "    <tr>\n",
       "      <th>6</th>\n",
       "      <td>zoktras</td>\n",
       "      <td>5 stars</td>\n",
       "      <td></td>\n",
       "      <td>5 days ago</td>\n",
       "    </tr>\n",
       "    <tr>\n",
       "      <th>7</th>\n",
       "      <td>PROJECT MONEY</td>\n",
       "      <td>5 stars</td>\n",
       "      <td>(Translated by Google) Great place to walk and...</td>\n",
       "      <td>6 days ago</td>\n",
       "    </tr>\n",
       "    <tr>\n",
       "      <th>8</th>\n",
       "      <td>Rahul V K</td>\n",
       "      <td>5 stars</td>\n",
       "      <td></td>\n",
       "      <td>6 days ago</td>\n",
       "    </tr>\n",
       "    <tr>\n",
       "      <th>9</th>\n",
       "      <td>Anthony in Korea</td>\n",
       "      <td>5 stars</td>\n",
       "      <td>(Translated by Google) One of the places that ...</td>\n",
       "      <td>a week ago</td>\n",
       "    </tr>\n",
       "  </tbody>\n",
       "</table>\n",
       "</div>"
      ],
      "text/plain": [
       "               name     rating  \\\n",
       "0        Sagar Mali   5 stars    \n",
       "1             KBS 4   5 stars    \n",
       "2      onestar Jang   5 stars    \n",
       "3              레몬쥬스   5 stars    \n",
       "4       marina kwon   5 stars    \n",
       "5          Ian Jung   5 stars    \n",
       "6           zoktras   5 stars    \n",
       "7     PROJECT MONEY   5 stars    \n",
       "8         Rahul V K   5 stars    \n",
       "9  Anthony in Korea   5 stars    \n",
       "\n",
       "                                              review          date  \n",
       "0  This ks Unesco World Heritage Site. Get some Y...  17 hours ago  \n",
       "1                                                       2 days ago  \n",
       "2                                                       2 days ago  \n",
       "3                                                       3 days ago  \n",
       "4  (Translated by Google) It's cool.\\n\\n(Original...    3 days ago  \n",
       "5  (Translated by Google) No, can historical site...    5 days ago  \n",
       "6                                                       5 days ago  \n",
       "7  (Translated by Google) Great place to walk and...    6 days ago  \n",
       "8                                                       6 days ago  \n",
       "9  (Translated by Google) One of the places that ...    a week ago  "
      ]
     },
     "execution_count": 288,
     "metadata": {},
     "output_type": "execute_result"
    }
   ],
   "source": [
    "# review list to dataframe\n",
    "review = pd.DataFrame(\n",
    "    {'name': name_list,\n",
    "     'rating': stars_list,\n",
    "     'review': review_list,\n",
    "     'date': date_list})\n",
    "pd.set_option('display.max_rows', None)\n",
    "review.head(10)"
   ]
  },
  {
   "cell_type": "code",
   "execution_count": 290,
   "metadata": {
    "ExecuteTime": {
     "end_time": "2022-08-08T07:50:23.095632Z",
     "start_time": "2022-08-08T07:50:23.027480Z"
    }
   },
   "outputs": [
    {
     "name": "stderr",
     "output_type": "stream",
     "text": [
      "<ipython-input-290-df687ee7f502>:28: FutureWarning: The default value of regex will change from True to False in a future version.\n",
      "  review['review'] = review['review'].str.replace(r'[^A-Za-z0-9]',' ')\n"
     ]
    },
    {
     "data": {
      "text/html": [
       "<div>\n",
       "<style scoped>\n",
       "    .dataframe tbody tr th:only-of-type {\n",
       "        vertical-align: middle;\n",
       "    }\n",
       "\n",
       "    .dataframe tbody tr th {\n",
       "        vertical-align: top;\n",
       "    }\n",
       "\n",
       "    .dataframe thead th {\n",
       "        text-align: right;\n",
       "    }\n",
       "</style>\n",
       "<table border=\"1\" class=\"dataframe\">\n",
       "  <thead>\n",
       "    <tr style=\"text-align: right;\">\n",
       "      <th></th>\n",
       "      <th>name</th>\n",
       "      <th>rating</th>\n",
       "      <th>review</th>\n",
       "      <th>date</th>\n",
       "    </tr>\n",
       "  </thead>\n",
       "  <tbody>\n",
       "    <tr>\n",
       "      <th>0</th>\n",
       "      <td>Sagar Mali</td>\n",
       "      <td>5 stars</td>\n",
       "      <td>this ks unesco world heritage site  get some y...</td>\n",
       "      <td>17 hours ago</td>\n",
       "    </tr>\n",
       "    <tr>\n",
       "      <th>7</th>\n",
       "      <td>PROJECT MONEY</td>\n",
       "      <td>5 stars</td>\n",
       "      <td>great place to walk and relax</td>\n",
       "      <td>6 days ago</td>\n",
       "    </tr>\n",
       "    <tr>\n",
       "      <th>9</th>\n",
       "      <td>Anthony in Korea</td>\n",
       "      <td>5 stars</td>\n",
       "      <td>one of the places that i think anyone who trav...</td>\n",
       "      <td>a week ago</td>\n",
       "    </tr>\n",
       "    <tr>\n",
       "      <th>14</th>\n",
       "      <td>Yvonne Tan</td>\n",
       "      <td>5 stars</td>\n",
       "      <td>great walk up and gives an overview lookout of...</td>\n",
       "      <td>a week ago</td>\n",
       "    </tr>\n",
       "    <tr>\n",
       "      <th>19</th>\n",
       "      <td>hanimero</td>\n",
       "      <td>3 stars</td>\n",
       "      <td>i didn t go inside  but i walked around slowly...</td>\n",
       "      <td>2 weeks ago</td>\n",
       "    </tr>\n",
       "    <tr>\n",
       "      <th>37</th>\n",
       "      <td>ritva bontinck</td>\n",
       "      <td>5 stars</td>\n",
       "      <td>nice that the room is decorated</td>\n",
       "      <td>3 weeks ago</td>\n",
       "    </tr>\n",
       "    <tr>\n",
       "      <th>40</th>\n",
       "      <td>jeremia msofu</td>\n",
       "      <td>5 stars</td>\n",
       "      <td>very historical place  to know korean history ...</td>\n",
       "      <td>3 weeks ago</td>\n",
       "    </tr>\n",
       "    <tr>\n",
       "      <th>47</th>\n",
       "      <td>pagi pagi</td>\n",
       "      <td>5 stars</td>\n",
       "      <td>when i went to korea about 3 years ago  i look...</td>\n",
       "      <td>a month ago</td>\n",
       "    </tr>\n",
       "    <tr>\n",
       "      <th>48</th>\n",
       "      <td>Nick G</td>\n",
       "      <td>5 stars</td>\n",
       "      <td>a really great time exploring the fortress wal...</td>\n",
       "      <td>a month ago</td>\n",
       "    </tr>\n",
       "    <tr>\n",
       "      <th>56</th>\n",
       "      <td>Shubhanginee Singh</td>\n",
       "      <td>4 stars</td>\n",
       "      <td>splendid architecture located in the city  eas...</td>\n",
       "      <td>a month ago</td>\n",
       "    </tr>\n",
       "  </tbody>\n",
       "</table>\n",
       "</div>"
      ],
      "text/plain": [
       "                  name     rating  \\\n",
       "0           Sagar Mali   5 stars    \n",
       "7        PROJECT MONEY   5 stars    \n",
       "9     Anthony in Korea   5 stars    \n",
       "14          Yvonne Tan   5 stars    \n",
       "19            hanimero   3 stars    \n",
       "37      ritva bontinck   5 stars    \n",
       "40       jeremia msofu   5 stars    \n",
       "47           pagi pagi   5 stars    \n",
       "48              Nick G   5 stars    \n",
       "56  Shubhanginee Singh   4 stars    \n",
       "\n",
       "                                               review          date  \n",
       "0   this ks unesco world heritage site  get some y...  17 hours ago  \n",
       "7                       great place to walk and relax    6 days ago  \n",
       "9   one of the places that i think anyone who trav...    a week ago  \n",
       "14  great walk up and gives an overview lookout of...    a week ago  \n",
       "19  i didn t go inside  but i walked around slowly...   2 weeks ago  \n",
       "37                    nice that the room is decorated   3 weeks ago  \n",
       "40  very historical place  to know korean history ...   3 weeks ago  \n",
       "47  when i went to korea about 3 years ago  i look...   a month ago  \n",
       "48  a really great time exploring the fortress wal...   a month ago  \n",
       "56  splendid architecture located in the city  eas...   a month ago  "
      ]
     },
     "execution_count": 290,
     "metadata": {},
     "output_type": "execute_result"
    }
   ],
   "source": [
    "# remove korean name\n",
    "review['name2'] = review['name'].str.findall(r'[ㄱ-ㅎㅏ-ㅣ가-힣]')\n",
    "\n",
    "review = review[review['name2'].str.len() == 0]\n",
    "\n",
    "# remove korean review\n",
    "review['review2'] = review['review'].str.findall(r'[ㄱ-ㅎㅏ-ㅣ가-힣]')\n",
    "\n",
    "review = review[review['review2'].str.len() == 0]\n",
    "\n",
    "# remove name2 & review2 columns\n",
    "review.drop(['name2','review2'],axis=1, inplace=True)\n",
    "\n",
    "# remove unreviewed data\n",
    "review = review[review['review'].str.len()!=0]\n",
    "\n",
    "# remove \"(Translated by Google)\" sentence\n",
    "review['review'] = review['review'].str.replace('(Translated by Google) ','',regex=False)\n",
    "\n",
    "# delete from \"Original\" to last word\n",
    "review['review'] = review['review'].str.split('\\(Original\\)')\n",
    "review['review'] = [item[0] for item in review['review']]\n",
    "\n",
    "# delete side blank and \"\\n\"\n",
    "review['review'] = review['review'].str.strip()\n",
    "\n",
    "# remove special characters\n",
    "review['review'] = review['review'].str.replace(r'[^A-Za-z0-9]',' ')\n",
    "\n",
    "# replace with lowercase\n",
    "review['review'] = review['review'].str.lower()\n",
    "\n",
    "review.head(10)"
   ]
  },
  {
   "cell_type": "code",
   "execution_count": 287,
   "metadata": {
    "ExecuteTime": {
     "end_time": "2022-08-08T07:48:34.342849Z",
     "start_time": "2022-08-08T07:48:34.321438Z"
    }
   },
   "outputs": [],
   "source": [
    "review.to_csv(\"gmap_review.csv\", encoding=\"utf-8\")"
   ]
  },
  {
   "cell_type": "markdown",
   "metadata": {},
   "source": [
    "=================================================================================="
   ]
  }
 ],
 "metadata": {
  "hide_input": false,
  "kernelspec": {
   "display_name": "Python 3",
   "language": "python",
   "name": "python3"
  },
  "language_info": {
   "codemirror_mode": {
    "name": "ipython",
    "version": 3
   },
   "file_extension": ".py",
   "mimetype": "text/x-python",
   "name": "python",
   "nbconvert_exporter": "python",
   "pygments_lexer": "ipython3",
   "version": "3.8.5"
  },
  "toc": {
   "base_numbering": 1,
   "nav_menu": {},
   "number_sections": true,
   "sideBar": true,
   "skip_h1_title": false,
   "title_cell": "Table of Contents",
   "title_sidebar": "Contents",
   "toc_cell": false,
   "toc_position": {},
   "toc_section_display": true,
   "toc_window_display": false
  },
  "varInspector": {
   "cols": {
    "lenName": 16,
    "lenType": 16,
    "lenVar": 40
   },
   "kernels_config": {
    "python": {
     "delete_cmd_postfix": "",
     "delete_cmd_prefix": "del ",
     "library": "var_list.py",
     "varRefreshCmd": "print(var_dic_list())"
    },
    "r": {
     "delete_cmd_postfix": ") ",
     "delete_cmd_prefix": "rm(",
     "library": "var_list.r",
     "varRefreshCmd": "cat(var_dic_list()) "
    }
   },
   "types_to_exclude": [
    "module",
    "function",
    "builtin_function_or_method",
    "instance",
    "_Feature"
   ],
   "window_display": false
  }
 },
 "nbformat": 4,
 "nbformat_minor": 4
}
