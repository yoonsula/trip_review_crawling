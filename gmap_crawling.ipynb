{
 "cells": [
  {
   "cell_type": "code",
   "execution_count": 1,
   "metadata": {
    "ExecuteTime": {
     "end_time": "2022-08-10T05:05:01.909600Z",
     "start_time": "2022-08-10T05:05:00.096130Z"
    }
   },
   "outputs": [],
   "source": [
    "import pandas as pd\n",
    "import numpy as np\n",
    "\n",
    "import time\n",
    "\n",
    "\n",
    "from bs4 import BeautifulSoup\n",
    "from selenium import webdriver\n",
    "from selenium.webdriver.chrome.options import Options\n",
    "from selenium.webdriver import ActionChains\n",
    "from selenium.webdriver.common.keys import Keys\n",
    "from selenium.webdriver.common.by import By  # 3개는 selenium이 동작하면서 웹 화면이 로딩될때 까지 기다림을 지원\n",
    "from selenium.webdriver.support.ui import WebDriverWait # 웹 드라이버 미리 설치\n",
    "from selenium.webdriver.support import expected_conditions as EC       "
   ]
  },
  {
   "cell_type": "code",
   "execution_count": 70,
   "metadata": {
    "ExecuteTime": {
     "end_time": "2022-08-10T06:32:25.509920Z",
     "start_time": "2022-08-10T06:32:13.381948Z"
    }
   },
   "outputs": [],
   "source": [
    "\n",
    "driver = webdriver.Chrome('C:/Users/YOONSU/chromedriver.exe')\n",
    "driver.get(\"https://www.google.co.kr/maps/place/Hani+Lavender+Farm/data=!4m14!1m6!3m5!1s0x5fd88d61bac9f5b5:0xeb57d668b89c90b0!2sHani+Lavender+Farm!8m2!3d38.3486203!4d128.4149391!3m6!1s0x5fd88d61bac9f5b5:0xeb57d668b89c90b0!8m2!3d38.3486203!4d128.4149391!9m1!1b1?hl=en\")\n",
    "driver.maximize_window()\n",
    "time.sleep(5)\n",
    "\n",
    "# sort to recent review \n",
    "wait = WebDriverWait(driver, 10)\n",
    "menu_bt = wait.until(EC.element_to_be_clickable(\n",
    "                       (By.XPATH, '//button[@data-value=\\'Sort\\']'))\n",
    "                   )  \n",
    "menu_bt.click()\n",
    "\n",
    "recent_rating_bt = driver.find_elements_by_xpath(\n",
    "                                     '//li[@role=\\'menuitemradio\\']')[1]\n",
    "recent_rating_bt.click()\n"
   ]
  },
  {
   "cell_type": "code",
   "execution_count": null,
   "metadata": {},
   "outputs": [],
   "source": [
    "'''\n",
    "# specific attraction is differ from others, so we change html code for it.\n",
    "driver = webdriver.Chrome('C:/Users/YOONSU/chromedriver.exe')\n",
    "driver.get(\"https://www.google.co.kr/maps/place/Daemyung+Delpino+Golf+%26+Resort+%26+Hotel/data=!4m14!1m2!2m1!1z64247ZS864W4IOqzqO2UhOyVpOumrOyhsO2KuCDriIjsjbDrp6TsnqU!3m10!1s0x5fd8bd426d38d6fb:0x5cd1daca122d04bf!5m2!4m1!1i2!8m2!3d38.2120109!4d128.4940943!9m1!1b1!15sCinrjbjtlLzrhbgg6rOo7ZSE7JWk66as7KGw7Yq4IOuIiOyNsOunpOyepVouIizrjbjtlLzrhbgg6rOo7ZSEIOyVpCDrpqzsobDtirgg64iI7I2w66ekIOyepZIBDHJlc29ydF9ob3RlbJoBI0NoWkRTVWhOTUc5blMwVkpRMEZuU1VOWGNrNTZYMGwzRUFF?hl=en\")\n",
    "driver.maximize_window()\n",
    "time.sleep(5)\n",
    "\n",
    "# sort to recent review \n",
    "wait = WebDriverWait(driver, 10)\n",
    "menu_bt = wait.until(EC.element_to_be_clickable(\n",
    "                       (By.CSS_SELECTOR, '#QA0Szd > div > div > div.w6VYqd > div.bJzME.tTVLSc > div > div.e07Vkf.kA9KIf > div > div > div.m6QErb.DxyBCb.kA9KIf.dS8AEf > div:nth-child(9) > button:nth-child(2) > div.IAbLGd'))\n",
    "                   )  \n",
    "menu_bt.click()\n",
    "\n",
    "recent_rating_bt = driver.find_elements(By.XPATH,\n",
    "                                     '//li[@role=\\'menuitemradio\\']')[1]\n",
    "recent_rating_bt.click()\n",
    "'''"
   ]
  },
  {
   "cell_type": "code",
   "execution_count": 71,
   "metadata": {
    "ExecuteTime": {
     "end_time": "2022-08-10T06:34:39.251522Z",
     "start_time": "2022-08-10T06:32:39.346874Z"
    },
    "code_folding": []
   },
   "outputs": [
    {
     "name": "stderr",
     "output_type": "stream",
     "text": [
      "100%|████████████████████████████████████████████████████████████████████████████████| 800/800 [01:59<00:00,  6.67it/s]\n"
     ]
    }
   ],
   "source": [
    "# scroll code\n",
    "# total n review (10 reviews per 1 page)\n",
    "from tqdm import tqdm\n",
    "\n",
    "# google map allows crawling until 93th scroll(maybe robots.txt disallow crawling)\n",
    "page_num = 80\n",
    "per = 10\n",
    "pbar = tqdm(total=page_num*per)\n",
    "with tqdm(total=page_num*per, position=0, leave=True) as pbar:\n",
    "    for i in range(page_num):\n",
    "        buffer = driver.find_elements_by_class_name('qjESne') # buffer location\n",
    "        action = ActionChains(driver)\n",
    "\n",
    "        n =len(buffer)\n",
    "        action.move_to_element(buffer[n-1]).perform() # move to last buffer\n",
    "        time.sleep(1)\n",
    "        pbar.update(per)\n",
    "    pbar.close()"
   ]
  },
  {
   "cell_type": "code",
   "execution_count": 72,
   "metadata": {
    "ExecuteTime": {
     "end_time": "2022-08-10T06:41:27.000097Z",
     "start_time": "2022-08-10T06:34:41.750880Z"
    }
   },
   "outputs": [],
   "source": [
    "box_list = []\n",
    "name_list = []\n",
    "stars_list = []\n",
    "review_list = []\n",
    "date_list = []\n",
    "\n",
    "boxes = driver.find_elements_by_class_name('jftiEf.fontBodyMedium') # review class\n",
    "\n",
    "\n",
    "# more butten click\n",
    "for box in boxes:\n",
    "    try:\n",
    "        more_btn = box.find_element_by_class_name('w8nwRe.kyuRq')\n",
    "        more_btn.click()\n",
    "        time.sleep(0.5)\n",
    "    except:\n",
    "        continue\n",
    "# review collection\n",
    "for box in boxes:\n",
    "\n",
    "    IDs = box.find_elements_by_class_name('d4r55')\n",
    "\n",
    "    Dates = box.find_elements_by_class_name('rsqaWe')\n",
    "\n",
    "    Stars = box.find_elements_by_class_name('kvMYJc')\n",
    "\n",
    "    reviews = box.find_elements_by_css_selector('span.wiI7pd')\n",
    "\n",
    "    for ID, Date, Star, review in zip(IDs, Dates, Stars, reviews):\n",
    "        name_list.append(ID.text)\n",
    "        date_list.append(Date.text)\n",
    "        stars_list.append(Star.get_attribute('aria-label'))\n",
    "        review_list.append(review.text)\n"
   ]
  },
  {
   "cell_type": "code",
   "execution_count": 76,
   "metadata": {
    "ExecuteTime": {
     "end_time": "2022-08-10T06:41:33.812941Z",
     "start_time": "2022-08-10T06:41:33.781942Z"
    }
   },
   "outputs": [
    {
     "name": "stdout",
     "output_type": "stream",
     "text": [
      "750\n"
     ]
    },
    {
     "data": {
      "text/html": [
       "<div>\n",
       "<style scoped>\n",
       "    .dataframe tbody tr th:only-of-type {\n",
       "        vertical-align: middle;\n",
       "    }\n",
       "\n",
       "    .dataframe tbody tr th {\n",
       "        vertical-align: top;\n",
       "    }\n",
       "\n",
       "    .dataframe thead th {\n",
       "        text-align: right;\n",
       "    }\n",
       "</style>\n",
       "<table border=\"1\" class=\"dataframe\">\n",
       "  <thead>\n",
       "    <tr style=\"text-align: right;\">\n",
       "      <th></th>\n",
       "      <th>name</th>\n",
       "      <th>rating</th>\n",
       "      <th>review</th>\n",
       "      <th>date</th>\n",
       "    </tr>\n",
       "  </thead>\n",
       "  <tbody>\n",
       "    <tr>\n",
       "      <th>0</th>\n",
       "      <td>Myung jin Lee</td>\n",
       "      <td>5 stars</td>\n",
       "      <td></td>\n",
       "      <td>a day ago</td>\n",
       "    </tr>\n",
       "    <tr>\n",
       "      <th>1</th>\n",
       "      <td>Yong-hyun Han</td>\n",
       "      <td>5 stars</td>\n",
       "      <td></td>\n",
       "      <td>2 days ago</td>\n",
       "    </tr>\n",
       "    <tr>\n",
       "      <th>2</th>\n",
       "      <td>엄계연</td>\n",
       "      <td>4 stars</td>\n",
       "      <td>(Translated by Google) The lavender season has...</td>\n",
       "      <td>a week ago</td>\n",
       "    </tr>\n",
       "    <tr>\n",
       "      <th>3</th>\n",
       "      <td>시골쥐</td>\n",
       "      <td>3 stars</td>\n",
       "      <td></td>\n",
       "      <td>a week ago</td>\n",
       "    </tr>\n",
       "    <tr>\n",
       "      <th>4</th>\n",
       "      <td>MANO C</td>\n",
       "      <td>2 stars</td>\n",
       "      <td>(Translated by Google) We benchmarked Furano, ...</td>\n",
       "      <td>2 weeks ago</td>\n",
       "    </tr>\n",
       "  </tbody>\n",
       "</table>\n",
       "</div>"
      ],
      "text/plain": [
       "            name     rating  \\\n",
       "0  Myung jin Lee   5 stars    \n",
       "1  Yong-hyun Han   5 stars    \n",
       "2            엄계연   4 stars    \n",
       "3            시골쥐   3 stars    \n",
       "4         MANO C   2 stars    \n",
       "\n",
       "                                              review         date  \n",
       "0                                                       a day ago  \n",
       "1                                                      2 days ago  \n",
       "2  (Translated by Google) The lavender season has...   a week ago  \n",
       "3                                                      a week ago  \n",
       "4  (Translated by Google) We benchmarked Furano, ...  2 weeks ago  "
      ]
     },
     "execution_count": 76,
     "metadata": {},
     "output_type": "execute_result"
    }
   ],
   "source": [
    "# review list to dataframe\n",
    "review = pd.DataFrame(\n",
    "    {'name': name_list,\n",
    "     'rating': stars_list,\n",
    "     'review': review_list,\n",
    "     'date': date_list\n",
    "    })\n",
    "pd.set_option('display.max_rows', None)\n",
    "print(len(review))\n",
    "review.head()"
   ]
  },
  {
   "cell_type": "code",
   "execution_count": 77,
   "metadata": {
    "ExecuteTime": {
     "end_time": "2022-08-10T06:41:38.934328Z",
     "start_time": "2022-08-10T06:41:38.921934Z"
    }
   },
   "outputs": [],
   "source": [
    "eng_review = review.copy()"
   ]
  },
  {
   "cell_type": "code",
   "execution_count": 78,
   "metadata": {
    "ExecuteTime": {
     "end_time": "2022-08-10T06:41:41.378658Z",
     "start_time": "2022-08-10T06:41:41.324426Z"
    }
   },
   "outputs": [
    {
     "name": "stdout",
     "output_type": "stream",
     "text": [
      "15\n"
     ]
    },
    {
     "data": {
      "text/html": [
       "<div>\n",
       "<style scoped>\n",
       "    .dataframe tbody tr th:only-of-type {\n",
       "        vertical-align: middle;\n",
       "    }\n",
       "\n",
       "    .dataframe tbody tr th {\n",
       "        vertical-align: top;\n",
       "    }\n",
       "\n",
       "    .dataframe thead th {\n",
       "        text-align: right;\n",
       "    }\n",
       "</style>\n",
       "<table border=\"1\" class=\"dataframe\">\n",
       "  <thead>\n",
       "    <tr style=\"text-align: right;\">\n",
       "      <th></th>\n",
       "      <th>name</th>\n",
       "      <th>rating</th>\n",
       "      <th>review</th>\n",
       "      <th>date</th>\n",
       "    </tr>\n",
       "  </thead>\n",
       "  <tbody>\n",
       "    <tr>\n",
       "      <th>33</th>\n",
       "      <td>Hanju Lee (Jannabi56)</td>\n",
       "      <td>5 stars</td>\n",
       "      <td>good view</td>\n",
       "      <td>a month ago</td>\n",
       "    </tr>\n",
       "    <tr>\n",
       "      <th>85</th>\n",
       "      <td>Udit Jain</td>\n",
       "      <td>5 stars</td>\n",
       "      <td>beautiful flowers and souvenir scent shop</td>\n",
       "      <td>a month ago</td>\n",
       "    </tr>\n",
       "    <tr>\n",
       "      <th>112</th>\n",
       "      <td>Gabriel Palma</td>\n",
       "      <td>5 stars</td>\n",
       "      <td>ice cream closes at 4 30</td>\n",
       "      <td>10 months ago</td>\n",
       "    </tr>\n",
       "    <tr>\n",
       "      <th>120</th>\n",
       "      <td>John Kitcher</td>\n",
       "      <td>5 stars</td>\n",
       "      <td>really pretty  june is the best time to go so ...</td>\n",
       "      <td>11 months ago</td>\n",
       "    </tr>\n",
       "    <tr>\n",
       "      <th>159</th>\n",
       "      <td>Shielah Mavengere</td>\n",
       "      <td>5 stars</td>\n",
       "      <td>beautiful farm  well maintained and the staff ...</td>\n",
       "      <td>a year ago</td>\n",
       "    </tr>\n",
       "  </tbody>\n",
       "</table>\n",
       "</div>"
      ],
      "text/plain": [
       "                      name     rating  \\\n",
       "33   Hanju Lee (Jannabi56)   5 stars    \n",
       "85               Udit Jain   5 stars    \n",
       "112          Gabriel Palma   5 stars    \n",
       "120           John Kitcher   5 stars    \n",
       "159      Shielah Mavengere   5 stars    \n",
       "\n",
       "                                                review           date  \n",
       "33                                           good view    a month ago  \n",
       "85           beautiful flowers and souvenir scent shop    a month ago  \n",
       "112                           ice cream closes at 4 30  10 months ago  \n",
       "120  really pretty  june is the best time to go so ...  11 months ago  \n",
       "159  beautiful farm  well maintained and the staff ...     a year ago  "
      ]
     },
     "execution_count": 78,
     "metadata": {},
     "output_type": "execute_result"
    }
   ],
   "source": [
    "# remove korean name\n",
    "eng_review['name2'] = eng_review['name'].str.findall(r'[ㄱ-ㅎㅏ-ㅣ가-힣]')\n",
    "eng_review = eng_review[eng_review['name2'].str.len() == 0]\n",
    "\n",
    "# remove korean review\n",
    "eng_review['review2'] = eng_review['review'].str.findall(r'[ㄱ-ㅎㅏ-ㅣ가-힣]')\n",
    "eng_review = eng_review[eng_review['review2'].str.len() == 0]\n",
    "\n",
    "# remove name2 & review2 columns\n",
    "eng_review.drop(['name2','review2'],axis=1, inplace=True)\n",
    "\n",
    "# remove \"(Translated by Google)\" sentence\n",
    "eng_review['review'] = eng_review['review'].str.replace('(Translated by Google) ','',regex=False)\n",
    "\n",
    "# remove \"Original\" sentence\n",
    "eng_review['review'] = eng_review['review'].str.replace('\\(Original\\)','',regex=False)\n",
    "\n",
    "# remove not english sentence & special characters\n",
    "eng_review['review'] = eng_review['review'].str.replace(r'[^A-Za-z0-9]',' ', regex=True)\n",
    "\n",
    "# delete side blank and \"\\n\"\n",
    "eng_review['review'] = eng_review['review'].str.strip()\n",
    "\n",
    "# replace with lowercase\n",
    "eng_review['review'] = eng_review['review'].str.lower()\n",
    "\n",
    "# remove unreviewed data\n",
    "eng_review = eng_review[eng_review['review'].str.len()!=0]\n",
    "\n",
    "print(len(eng_review))\n",
    "eng_review.head()"
   ]
  },
  {
   "cell_type": "code",
   "execution_count": 79,
   "metadata": {
    "ExecuteTime": {
     "end_time": "2022-08-10T06:41:51.694932Z",
     "start_time": "2022-08-10T06:41:51.678929Z"
    }
   },
   "outputs": [
    {
     "data": {
      "text/html": [
       "<div>\n",
       "<style scoped>\n",
       "    .dataframe tbody tr th:only-of-type {\n",
       "        vertical-align: middle;\n",
       "    }\n",
       "\n",
       "    .dataframe tbody tr th {\n",
       "        vertical-align: top;\n",
       "    }\n",
       "\n",
       "    .dataframe thead th {\n",
       "        text-align: right;\n",
       "    }\n",
       "</style>\n",
       "<table border=\"1\" class=\"dataframe\">\n",
       "  <thead>\n",
       "    <tr style=\"text-align: right;\">\n",
       "      <th></th>\n",
       "      <th>name</th>\n",
       "      <th>rating</th>\n",
       "      <th>review</th>\n",
       "      <th>date</th>\n",
       "    </tr>\n",
       "  </thead>\n",
       "  <tbody>\n",
       "    <tr>\n",
       "      <th>236</th>\n",
       "      <td>THO TRAN</td>\n",
       "      <td>5 stars</td>\n",
       "      <td>beautiful place  we went there on friday  but ...</td>\n",
       "      <td>a year ago</td>\n",
       "    </tr>\n",
       "    <tr>\n",
       "      <th>263</th>\n",
       "      <td>Tran Duong</td>\n",
       "      <td>5 stars</td>\n",
       "      <td>oki</td>\n",
       "      <td>a year ago</td>\n",
       "    </tr>\n",
       "    <tr>\n",
       "      <th>416</th>\n",
       "      <td>Benjawan Chinrum</td>\n",
       "      <td>4 stars</td>\n",
       "      <td>the flowers are very beautiful  the place is n...</td>\n",
       "      <td>2 years ago</td>\n",
       "    </tr>\n",
       "    <tr>\n",
       "      <th>563</th>\n",
       "      <td>Natasha Ovie</td>\n",
       "      <td>4 stars</td>\n",
       "      <td>im verry happy because the lavendar farm good ...</td>\n",
       "      <td>2 years ago</td>\n",
       "    </tr>\n",
       "    <tr>\n",
       "      <th>642</th>\n",
       "      <td>Kelly Bruinders</td>\n",
       "      <td>5 stars</td>\n",
       "      <td>instagram worthy  this place is very beautiful...</td>\n",
       "      <td>3 years ago</td>\n",
       "    </tr>\n",
       "    <tr>\n",
       "      <th>657</th>\n",
       "      <td>Evi Masfiyah</td>\n",
       "      <td>5 stars</td>\n",
       "      <td>only available on spring and summer season</td>\n",
       "      <td>3 years ago</td>\n",
       "    </tr>\n",
       "    <tr>\n",
       "      <th>658</th>\n",
       "      <td>Nicholas Park</td>\n",
       "      <td>5 stars</td>\n",
       "      <td>it s not as big as i thought  but still purple...</td>\n",
       "      <td>3 years ago</td>\n",
       "    </tr>\n",
       "    <tr>\n",
       "      <th>696</th>\n",
       "      <td>alan 20</td>\n",
       "      <td>3 stars</td>\n",
       "      <td>a shop that mainly sells lavender products   o...</td>\n",
       "      <td>3 years ago</td>\n",
       "    </tr>\n",
       "    <tr>\n",
       "      <th>729</th>\n",
       "      <td>CJ Dayrit</td>\n",
       "      <td>4 stars</td>\n",
       "      <td>great place in goseong  it is important to com...</td>\n",
       "      <td>4 years ago</td>\n",
       "    </tr>\n",
       "    <tr>\n",
       "      <th>740</th>\n",
       "      <td>Ka Ling (Drkyling)</td>\n",
       "      <td>4 stars</td>\n",
       "      <td>beautiful lavender experience  but honestly a ...</td>\n",
       "      <td>4 years ago</td>\n",
       "    </tr>\n",
       "  </tbody>\n",
       "</table>\n",
       "</div>"
      ],
      "text/plain": [
       "                   name     rating  \\\n",
       "236            THO TRAN   5 stars    \n",
       "263          Tran Duong   5 stars    \n",
       "416    Benjawan Chinrum   4 stars    \n",
       "563        Natasha Ovie   4 stars    \n",
       "642     Kelly Bruinders   5 stars    \n",
       "657        Evi Masfiyah   5 stars    \n",
       "658       Nicholas Park   5 stars    \n",
       "696             alan 20   3 stars    \n",
       "729           CJ Dayrit   4 stars    \n",
       "740  Ka Ling (Drkyling)   4 stars    \n",
       "\n",
       "                                                review         date  \n",
       "236  beautiful place  we went there on friday  but ...   a year ago  \n",
       "263                                                oki   a year ago  \n",
       "416  the flowers are very beautiful  the place is n...  2 years ago  \n",
       "563  im verry happy because the lavendar farm good ...  2 years ago  \n",
       "642  instagram worthy  this place is very beautiful...  3 years ago  \n",
       "657         only available on spring and summer season  3 years ago  \n",
       "658  it s not as big as i thought  but still purple...  3 years ago  \n",
       "696  a shop that mainly sells lavender products   o...  3 years ago  \n",
       "729  great place in goseong  it is important to com...  4 years ago  \n",
       "740  beautiful lavender experience  but honestly a ...  4 years ago  "
      ]
     },
     "execution_count": 79,
     "metadata": {},
     "output_type": "execute_result"
    }
   ],
   "source": [
    "eng_review.tail(10)"
   ]
  },
  {
   "cell_type": "code",
   "execution_count": 80,
   "metadata": {
    "ExecuteTime": {
     "end_time": "2022-08-10T06:43:39.662786Z",
     "start_time": "2022-08-10T06:43:39.615149Z"
    }
   },
   "outputs": [],
   "source": [
    "eng_review.to_csv(\"하니라벤더.csv\", encoding=\"utf-8\")"
   ]
  },
  {
   "cell_type": "markdown",
   "metadata": {},
   "source": [
    "=================================================================================="
   ]
  }
 ],
 "metadata": {
  "hide_input": false,
  "kernelspec": {
   "display_name": "Python 3",
   "language": "python",
   "name": "python3"
  },
  "language_info": {
   "codemirror_mode": {
    "name": "ipython",
    "version": 3
   },
   "file_extension": ".py",
   "mimetype": "text/x-python",
   "name": "python",
   "nbconvert_exporter": "python",
   "pygments_lexer": "ipython3",
   "version": "3.8.5"
  },
  "toc": {
   "base_numbering": 1,
   "nav_menu": {},
   "number_sections": true,
   "sideBar": true,
   "skip_h1_title": false,
   "title_cell": "Table of Contents",
   "title_sidebar": "Contents",
   "toc_cell": false,
   "toc_position": {},
   "toc_section_display": true,
   "toc_window_display": false
  },
  "varInspector": {
   "cols": {
    "lenName": 16,
    "lenType": 16,
    "lenVar": 40
   },
   "kernels_config": {
    "python": {
     "delete_cmd_postfix": "",
     "delete_cmd_prefix": "del ",
     "library": "var_list.py",
     "varRefreshCmd": "print(var_dic_list())"
    },
    "r": {
     "delete_cmd_postfix": ") ",
     "delete_cmd_prefix": "rm(",
     "library": "var_list.r",
     "varRefreshCmd": "cat(var_dic_list()) "
    }
   },
   "types_to_exclude": [
    "module",
    "function",
    "builtin_function_or_method",
    "instance",
    "_Feature"
   ],
   "window_display": false
  }
 },
 "nbformat": 4,
 "nbformat_minor": 4
}
