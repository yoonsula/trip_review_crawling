{
 "cells": [
  {
   "cell_type": "code",
   "execution_count": 86,
   "metadata": {
    "ExecuteTime": {
     "end_time": "2022-08-10T07:07:04.282758Z",
     "start_time": "2022-08-10T07:07:04.268759Z"
    },
    "scrolled": true
   },
   "outputs": [
    {
     "data": {
      "text/plain": [
       "'3.141.0'"
      ]
     },
     "execution_count": 86,
     "metadata": {},
     "output_type": "execute_result"
    }
   ],
   "source": [
    "# !pip install --upgrade selenium==3.141.0"
   ]
  },
  {
   "cell_type": "code",
   "execution_count": 1,
   "metadata": {
    "ExecuteTime": {
     "end_time": "2022-08-16T02:30:03.620282Z",
     "start_time": "2022-08-16T02:30:02.452035Z"
    }
   },
   "outputs": [],
   "source": [
    "import pandas as pd\n",
    "import numpy as np\n",
    "\n",
    "import time\n",
    "\n",
    "\n",
    "from bs4 import BeautifulSoup\n",
    "from selenium import webdriver\n",
    "from selenium.webdriver.chrome.options import Options\n",
    "from selenium.webdriver import ActionChains\n",
    "from selenium.webdriver.common.keys import Keys\n",
    "from selenium.webdriver.common.by import By  # 3개는 selenium이 동작하면서 웹 화면이 로딩될때 까지 기다림을 지원\n",
    "from selenium.webdriver.support.ui import WebDriverWait # 웹 드라이버 미리 설치\n",
    "from selenium.webdriver.support import expected_conditions as EC       "
   ]
  },
  {
   "cell_type": "code",
   "execution_count": 71,
   "metadata": {
    "ExecuteTime": {
     "end_time": "2022-08-16T04:52:15.816518Z",
     "start_time": "2022-08-16T04:52:05.748918Z"
    }
   },
   "outputs": [],
   "source": [
    "\n",
    "driver = webdriver.Chrome('C:/Users/YOONSU/chromedriver.exe')\n",
    "driver.get('https://www.google.co.kr/maps/place/%EB%8F%84%EC%A7%B8%EB%B9%84%EA%B3%A8+%EC%8A%A4%EC%B9%B4%EC%9D%B4%EB%B0%B8%EB%A6%AC/data=!4m7!3m6!1s0x3561c7043cf93175:0x2cae625b779ec218!8m2!3d37.5548774!4d129.1196557!9m1!1b1?hl=en')\n",
    "driver.maximize_window()\n",
    "time.sleep(5)\n",
    "\n",
    "# sort to recent review \n",
    "wait = WebDriverWait(driver, 10)\n",
    "menu_bt = wait.until(EC.element_to_be_clickable(\n",
    "                       (By.XPATH, '//button[@data-value=\\'Sort\\']'))\n",
    "                   )  \n",
    "menu_bt.click()\n",
    "\n",
    "recent_rating_bt = driver.find_elements_by_xpath(\n",
    "                                     '//li[@role=\\'menuitemradio\\']')[0]\n",
    "recent_rating_bt.click()\n"
   ]
  },
  {
   "cell_type": "code",
   "execution_count": null,
   "metadata": {},
   "outputs": [],
   "source": [
    "'''\n",
    "# specific attraction is differ from others, so we change html code for it.\n",
    "driver = webdriver.Chrome('C:/Users/YOONSU/chromedriver.exe')\n",
    "driver.get(\"https://www.google.co.kr/maps/place/Daemyung+Delpino+Golf+%26+Resort+%26+Hotel/data=!4m14!1m2!2m1!1z64247ZS864W4IOqzqO2UhOyVpOumrOyhsO2KuCDriIjsjbDrp6TsnqU!3m10!1s0x5fd8bd426d38d6fb:0x5cd1daca122d04bf!5m2!4m1!1i2!8m2!3d38.2120109!4d128.4940943!9m1!1b1!15sCinrjbjtlLzrhbgg6rOo7ZSE7JWk66as7KGw7Yq4IOuIiOyNsOunpOyepVouIizrjbjtlLzrhbgg6rOo7ZSEIOyVpCDrpqzsobDtirgg64iI7I2w66ekIOyepZIBDHJlc29ydF9ob3RlbJoBI0NoWkRTVWhOTUc5blMwVkpRMEZuU1VOWGNrNTZYMGwzRUFF?hl=en\")\n",
    "driver.maximize_window()\n",
    "time.sleep(5)\n",
    "\n",
    "# sort to recent review \n",
    "wait = WebDriverWait(driver, 10)\n",
    "menu_bt = wait.until(EC.element_to_be_clickable(\n",
    "                       (By.CSS_SELECTOR, '#QA0Szd > div > div > div.w6VYqd > div.bJzME.tTVLSc > div > div.e07Vkf.kA9KIf > div > div > div.m6QErb.DxyBCb.kA9KIf.dS8AEf > div:nth-child(9) > button:nth-child(2) > div.IAbLGd'))\n",
    "                   )  \n",
    "menu_bt.click()\n",
    "\n",
    "recent_rating_bt = driver.find_elements(By.XPATH,\n",
    "                                     '//li[@role=\\'menuitemradio\\']')[1]\n",
    "recent_rating_bt.click()\n",
    "'''"
   ]
  },
  {
   "cell_type": "code",
   "execution_count": 72,
   "metadata": {
    "ExecuteTime": {
     "end_time": "2022-08-16T04:52:49.757604Z",
     "start_time": "2022-08-16T04:52:16.205830Z"
    },
    "code_folding": []
   },
   "outputs": [
    {
     "name": "stderr",
     "output_type": "stream",
     "text": [
      "100%|████████████████████████████████████████████████████████████████████████████████| 250/250 [00:33<00:00,  7.46it/s]\n"
     ]
    }
   ],
   "source": [
    "# scroll code\n",
    "# total n review (10 reviews per 1 page)\n",
    "from tqdm import tqdm\n",
    "\n",
    "# google map allows crawling until 93th scroll(maybe robots.txt disallow crawling)\n",
    "page_num = 25\n",
    "per = 10\n",
    "pbar = tqdm(total=page_num*per)\n",
    "with tqdm(total=page_num*per, position=0, leave=True) as pbar:\n",
    "    for i in range(page_num):\n",
    "        buffer = driver.find_elements_by_class_name('qjESne') # buffer location\n",
    "        action = ActionChains(driver)\n",
    "\n",
    "        n =len(buffer)\n",
    "        action.move_to_element(buffer[n-1]).perform() # move to last buffer\n",
    "        time.sleep(1)\n",
    "        pbar.update(per)\n",
    "    pbar.close()"
   ]
  },
  {
   "cell_type": "code",
   "execution_count": 73,
   "metadata": {
    "ExecuteTime": {
     "end_time": "2022-08-16T04:55:25.078706Z",
     "start_time": "2022-08-16T04:52:49.912705Z"
    }
   },
   "outputs": [
    {
     "name": "stderr",
     "output_type": "stream",
     "text": [
      "  0%|                                                                                          | 0/250 [00:33<?, ?it/s]\n"
     ]
    }
   ],
   "source": [
    "box_list = []\n",
    "name_list = []\n",
    "stars_list = []\n",
    "review_list = []\n",
    "date_list = []\n",
    "\n",
    "boxes = driver.find_elements_by_class_name('jftiEf.fontBodyMedium') # review class\n",
    "\n",
    "\n",
    "# more butten click\n",
    "for box in boxes:\n",
    "    try:\n",
    "        more_btn = box.find_element_by_class_name('w8nwRe.kyuRq')\n",
    "        more_btn.click()\n",
    "        time.sleep(1)\n",
    "    except:\n",
    "        continue\n",
    "# review collection\n",
    "for box in boxes:\n",
    "\n",
    "    IDs = box.find_elements_by_class_name('d4r55')\n",
    "\n",
    "    Dates = box.find_elements_by_class_name('rsqaWe')\n",
    "\n",
    "    Stars = box.find_elements_by_class_name('kvMYJc')\n",
    "\n",
    "    reviews = box.find_elements_by_css_selector('span.wiI7pd')\n",
    "\n",
    "    for ID, Date, Star, review in zip(IDs, Dates, Stars, reviews):\n",
    "        name_list.append(ID.text)\n",
    "        date_list.append(Date.text)\n",
    "        stars_list.append(Star.get_attribute('aria-label'))\n",
    "        review_list.append(review.text)\n"
   ]
  },
  {
   "cell_type": "code",
   "execution_count": 74,
   "metadata": {
    "ExecuteTime": {
     "end_time": "2022-08-16T04:55:25.172678Z",
     "start_time": "2022-08-16T04:55:25.158685Z"
    }
   },
   "outputs": [
    {
     "name": "stdout",
     "output_type": "stream",
     "text": [
      "241\n"
     ]
    },
    {
     "data": {
      "text/html": [
       "<div>\n",
       "<style scoped>\n",
       "    .dataframe tbody tr th:only-of-type {\n",
       "        vertical-align: middle;\n",
       "    }\n",
       "\n",
       "    .dataframe tbody tr th {\n",
       "        vertical-align: top;\n",
       "    }\n",
       "\n",
       "    .dataframe thead th {\n",
       "        text-align: right;\n",
       "    }\n",
       "</style>\n",
       "<table border=\"1\" class=\"dataframe\">\n",
       "  <thead>\n",
       "    <tr style=\"text-align: right;\">\n",
       "      <th></th>\n",
       "      <th>name</th>\n",
       "      <th>rating</th>\n",
       "      <th>review</th>\n",
       "      <th>date</th>\n",
       "    </tr>\n",
       "  </thead>\n",
       "  <tbody>\n",
       "    <tr>\n",
       "      <th>236</th>\n",
       "      <td>채나</td>\n",
       "      <td>5 stars</td>\n",
       "      <td></td>\n",
       "      <td>6 months ago</td>\n",
       "    </tr>\n",
       "    <tr>\n",
       "      <th>237</th>\n",
       "      <td>윤석준</td>\n",
       "      <td>4 stars</td>\n",
       "      <td></td>\n",
       "      <td>a week ago</td>\n",
       "    </tr>\n",
       "    <tr>\n",
       "      <th>238</th>\n",
       "      <td>cho dongmin</td>\n",
       "      <td>5 stars</td>\n",
       "      <td></td>\n",
       "      <td>a month ago</td>\n",
       "    </tr>\n",
       "    <tr>\n",
       "      <th>239</th>\n",
       "      <td>ddrl</td>\n",
       "      <td>4 stars</td>\n",
       "      <td></td>\n",
       "      <td>3 months ago</td>\n",
       "    </tr>\n",
       "    <tr>\n",
       "      <th>240</th>\n",
       "      <td>신선아</td>\n",
       "      <td>5 stars</td>\n",
       "      <td></td>\n",
       "      <td>2 weeks ago</td>\n",
       "    </tr>\n",
       "  </tbody>\n",
       "</table>\n",
       "</div>"
      ],
      "text/plain": [
       "            name     rating review          date\n",
       "236           채나   5 stars          6 months ago\n",
       "237          윤석준   4 stars            a week ago\n",
       "238  cho dongmin   5 stars           a month ago\n",
       "239         ddrl   4 stars          3 months ago\n",
       "240          신선아   5 stars           2 weeks ago"
      ]
     },
     "execution_count": 74,
     "metadata": {},
     "output_type": "execute_result"
    }
   ],
   "source": [
    "# review list to dataframe\n",
    "review = pd.DataFrame(\n",
    "    {'name': name_list,\n",
    "     'rating': stars_list,\n",
    "     'review': review_list,\n",
    "     'date': date_list\n",
    "    })\n",
    "pd.set_option('display.max_rows', None)\n",
    "print(len(review))\n",
    "review.tail()"
   ]
  },
  {
   "cell_type": "code",
   "execution_count": 75,
   "metadata": {
    "ExecuteTime": {
     "end_time": "2022-08-16T04:56:38.954179Z",
     "start_time": "2022-08-16T04:56:38.948585Z"
    }
   },
   "outputs": [],
   "source": [
    "eng_review = review.copy()"
   ]
  },
  {
   "cell_type": "code",
   "execution_count": 76,
   "metadata": {
    "ExecuteTime": {
     "end_time": "2022-08-16T04:56:39.594082Z",
     "start_time": "2022-08-16T04:56:39.545152Z"
    }
   },
   "outputs": [
    {
     "name": "stdout",
     "output_type": "stream",
     "text": [
      "3\n"
     ]
    },
    {
     "data": {
      "text/html": [
       "<div>\n",
       "<style scoped>\n",
       "    .dataframe tbody tr th:only-of-type {\n",
       "        vertical-align: middle;\n",
       "    }\n",
       "\n",
       "    .dataframe tbody tr th {\n",
       "        vertical-align: top;\n",
       "    }\n",
       "\n",
       "    .dataframe thead th {\n",
       "        text-align: right;\n",
       "    }\n",
       "</style>\n",
       "<table border=\"1\" class=\"dataframe\">\n",
       "  <thead>\n",
       "    <tr style=\"text-align: right;\">\n",
       "      <th></th>\n",
       "      <th>name</th>\n",
       "      <th>rating</th>\n",
       "      <th>review</th>\n",
       "      <th>date</th>\n",
       "    </tr>\n",
       "  </thead>\n",
       "  <tbody>\n",
       "    <tr>\n",
       "      <th>0</th>\n",
       "      <td>Jeong Junhee</td>\n",
       "      <td>4 stars</td>\n",
       "      <td>viar with my parents great view</td>\n",
       "      <td>5 months ago</td>\n",
       "    </tr>\n",
       "    <tr>\n",
       "      <th>25</th>\n",
       "      <td>Катя Менжулина</td>\n",
       "      <td>5 stars</td>\n",
       "      <td>great place to take a walk and breathe in the ...</td>\n",
       "      <td>4 months ago</td>\n",
       "    </tr>\n",
       "    <tr>\n",
       "      <th>95</th>\n",
       "      <td>松蔭稔</td>\n",
       "      <td>5 stars</td>\n",
       "      <td>the weather is nice and beautiful</td>\n",
       "      <td>3 months ago</td>\n",
       "    </tr>\n",
       "  </tbody>\n",
       "</table>\n",
       "</div>"
      ],
      "text/plain": [
       "              name     rating  \\\n",
       "0     Jeong Junhee   4 stars    \n",
       "25  Катя Менжулина   5 stars    \n",
       "95             松蔭稔   5 stars    \n",
       "\n",
       "                                               review          date  \n",
       "0                     viar with my parents great view  5 months ago  \n",
       "25  great place to take a walk and breathe in the ...  4 months ago  \n",
       "95              the weather is nice and beautiful      3 months ago  "
      ]
     },
     "execution_count": 76,
     "metadata": {},
     "output_type": "execute_result"
    }
   ],
   "source": [
    "# remove korean name\n",
    "eng_review['name2'] = eng_review['name'].str.findall(r'[ㄱ-ㅎㅏ-ㅣ가-힣]')\n",
    "eng_review = eng_review[eng_review['name2'].str.len() == 0]\n",
    "\n",
    "# remove korean review\n",
    "eng_review['review2'] = eng_review['review'].str.findall(r'[ㄱ-ㅎㅏ-ㅣ가-힣]')\n",
    "eng_review = eng_review[eng_review['review2'].str.len() == 0]\n",
    "\n",
    "# remove name2 & review2 columns\n",
    "eng_review.drop(['name2','review2'],axis=1, inplace=True)\n",
    "\n",
    "# remove \"(Translated by Google)\" sentence\n",
    "eng_review['review'] = eng_review['review'].str.replace('(Translated by Google) ','',regex=False)\n",
    "\n",
    "# remove \"Original\" word\n",
    "eng_review['review'] = eng_review['review'].str.replace('\\(Original\\)','',regex=False)\n",
    "\n",
    "# remove not english sentence & special characters\n",
    "eng_review['review'] = eng_review['review'].str.replace(r'[^A-Za-z0-9]',' ', regex=True)\n",
    "\n",
    "# delete side blank and \"\\n\"\n",
    "eng_review['review'] = eng_review['review'].str.strip()\n",
    "\n",
    "# replace with lowercase\n",
    "eng_review['review'] = eng_review['review'].str.lower()\n",
    "\n",
    "# remove \"orginal\" word\n",
    "eng_review['review'] = eng_review['review'].str.replace('original','')\n",
    "\n",
    "# remove unreviewed data\n",
    "eng_review = eng_review[eng_review['review'].str.len()!=0]\n",
    "\n",
    "print(len(eng_review))\n",
    "eng_review.head(10)"
   ]
  },
  {
   "cell_type": "code",
   "execution_count": 68,
   "metadata": {
    "ExecuteTime": {
     "end_time": "2022-08-16T04:50:09.475534Z",
     "start_time": "2022-08-16T04:50:09.448205Z"
    }
   },
   "outputs": [
    {
     "data": {
      "text/html": [
       "<div>\n",
       "<style scoped>\n",
       "    .dataframe tbody tr th:only-of-type {\n",
       "        vertical-align: middle;\n",
       "    }\n",
       "\n",
       "    .dataframe tbody tr th {\n",
       "        vertical-align: top;\n",
       "    }\n",
       "\n",
       "    .dataframe thead th {\n",
       "        text-align: right;\n",
       "    }\n",
       "</style>\n",
       "<table border=\"1\" class=\"dataframe\">\n",
       "  <thead>\n",
       "    <tr style=\"text-align: right;\">\n",
       "      <th></th>\n",
       "      <th>name</th>\n",
       "      <th>rating</th>\n",
       "      <th>review</th>\n",
       "      <th>date</th>\n",
       "    </tr>\n",
       "  </thead>\n",
       "  <tbody>\n",
       "    <tr>\n",
       "      <th>0</th>\n",
       "      <td>cheol gyu Eun</td>\n",
       "      <td>3 stars</td>\n",
       "      <td>a lot of fish  vegetable are on the market  an...</td>\n",
       "      <td>11 months ago</td>\n",
       "    </tr>\n",
       "    <tr>\n",
       "      <th>21</th>\n",
       "      <td>松蔭稔</td>\n",
       "      <td>4 stars</td>\n",
       "      <td>there are many shops  it is cheap  and they se...</td>\n",
       "      <td>4 weeks ago</td>\n",
       "    </tr>\n",
       "    <tr>\n",
       "      <th>174</th>\n",
       "      <td>Виталя Середюк</td>\n",
       "      <td>4 stars</td>\n",
       "      <td>small market</td>\n",
       "      <td>2 years ago</td>\n",
       "    </tr>\n",
       "    <tr>\n",
       "      <th>177</th>\n",
       "      <td>Tamrin Hoesni</td>\n",
       "      <td>5 stars</td>\n",
       "      <td>nice     apik</td>\n",
       "      <td>3 years ago</td>\n",
       "    </tr>\n",
       "    <tr>\n",
       "      <th>179</th>\n",
       "      <td>Mar Tin</td>\n",
       "      <td>5 stars</td>\n",
       "      <td>love the place</td>\n",
       "      <td>3 years ago</td>\n",
       "    </tr>\n",
       "  </tbody>\n",
       "</table>\n",
       "</div>"
      ],
      "text/plain": [
       "               name     rating  \\\n",
       "0     cheol gyu Eun   3 stars    \n",
       "21              松蔭稔   4 stars    \n",
       "174  Виталя Середюк   4 stars    \n",
       "177   Tamrin Hoesni   5 stars    \n",
       "179         Mar Tin   5 stars    \n",
       "\n",
       "                                                review           date  \n",
       "0    a lot of fish  vegetable are on the market  an...  11 months ago  \n",
       "21   there are many shops  it is cheap  and they se...    4 weeks ago  \n",
       "174                                   small market        2 years ago  \n",
       "177                                      nice     apik    3 years ago  \n",
       "179                                 love the place        3 years ago  "
      ]
     },
     "execution_count": 68,
     "metadata": {},
     "output_type": "execute_result"
    }
   ],
   "source": [
    "eng_review.tail(10)"
   ]
  },
  {
   "cell_type": "code",
   "execution_count": 70,
   "metadata": {
    "ExecuteTime": {
     "end_time": "2022-08-16T04:50:37.294321Z",
     "start_time": "2022-08-16T04:50:37.274303Z"
    }
   },
   "outputs": [],
   "source": [
    "eng_review.to_csv(\"동해/동쪽바다중앙시장.csv\", encoding=\"utf-8\")"
   ]
  },
  {
   "cell_type": "markdown",
   "metadata": {},
   "source": [
    "=================================================================================="
   ]
  }
 ],
 "metadata": {
  "hide_input": false,
  "kernelspec": {
   "display_name": "Python 3",
   "language": "python",
   "name": "python3"
  },
  "language_info": {
   "codemirror_mode": {
    "name": "ipython",
    "version": 3
   },
   "file_extension": ".py",
   "mimetype": "text/x-python",
   "name": "python",
   "nbconvert_exporter": "python",
   "pygments_lexer": "ipython3",
   "version": "3.8.5"
  },
  "toc": {
   "base_numbering": 1,
   "nav_menu": {},
   "number_sections": true,
   "sideBar": true,
   "skip_h1_title": false,
   "title_cell": "Table of Contents",
   "title_sidebar": "Contents",
   "toc_cell": false,
   "toc_position": {},
   "toc_section_display": true,
   "toc_window_display": false
  },
  "varInspector": {
   "cols": {
    "lenName": 16,
    "lenType": 16,
    "lenVar": 40
   },
   "kernels_config": {
    "python": {
     "delete_cmd_postfix": "",
     "delete_cmd_prefix": "del ",
     "library": "var_list.py",
     "varRefreshCmd": "print(var_dic_list())"
    },
    "r": {
     "delete_cmd_postfix": ") ",
     "delete_cmd_prefix": "rm(",
     "library": "var_list.r",
     "varRefreshCmd": "cat(var_dic_list()) "
    }
   },
   "types_to_exclude": [
    "module",
    "function",
    "builtin_function_or_method",
    "instance",
    "_Feature"
   ],
   "window_display": false
  }
 },
 "nbformat": 4,
 "nbformat_minor": 4
}
