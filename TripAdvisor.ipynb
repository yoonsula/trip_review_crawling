{
 "cells": [
  {
   "cell_type": "code",
   "execution_count": 1,
   "metadata": {
    "ExecuteTime": {
     "end_time": "2022-08-18T01:36:24.531565Z",
     "start_time": "2022-08-18T01:36:22.174599Z"
    }
   },
   "outputs": [],
   "source": [
    "import pandas as pd\n",
    "import numpy as np\n",
    "\n",
    "import time\n",
    "\n",
    "\n",
    "from bs4 import BeautifulSoup\n",
    "from selenium import webdriver\n",
    "from selenium.webdriver.chrome.options import Options\n",
    "\n",
    "from selenium.webdriver.common.by import By  # 3개는 selenium이 동작하면서 웹 화면이 로딩될때 까지 기다림을 지원\n",
    "from selenium.webdriver.support.ui import WebDriverWait # 웹 드라이버 미리 설치\n",
    "from selenium.webdriver.support import expected_conditions as EC            # support안에 있는 expected_conditions를 EC로 선언\n"
   ]
  },
  {
   "cell_type": "code",
   "execution_count": 11,
   "metadata": {
    "ExecuteTime": {
     "end_time": "2022-08-18T01:46:15.655947Z",
     "start_time": "2022-08-18T01:46:04.501209Z"
    }
   },
   "outputs": [],
   "source": [
    "driver = webdriver.Chrome('C:/Users/YOONSU/chromedriver.exe')\n",
    "map_url = \"https://www.tripadvisor.com/Attraction_Review-g612375-d3805539-Reviews-Naksansa_Temple-Yangyang_gun_Gangwon_do.html\"\n",
    "driver.get(map_url) # 파이팅!!!!!!!!!!\n",
    "driver.maximize_window()\n",
    "time.sleep(5)"
   ]
  },
  {
   "cell_type": "code",
   "execution_count": 12,
   "metadata": {
    "ExecuteTime": {
     "end_time": "2022-08-18T01:46:29.240654Z",
     "start_time": "2022-08-18T01:46:15.692946Z"
    }
   },
   "outputs": [],
   "source": [
    "box_list = []\n",
    "name_list = []\n",
    "stars_list = []\n",
    "review_list = []\n",
    "date_list = []\n",
    "title_list = []\n",
    "\n",
    "num_page = 6\n",
    "i=0\n",
    "while (i<num_page):\n",
    "    \n",
    "    boxes = driver.find_elements_by_css_selector('div._c')\n",
    "\n",
    "    for box in boxes:\n",
    "        try:\n",
    "            more_btn = box.find_element_by_class_name('biGQs._P.XWJSj.Wb')\n",
    "            more_btn.click()\n",
    "            time.sleep(5)\n",
    "        except:\n",
    "            continue\n",
    "\n",
    "    for box in boxes:\n",
    "\n",
    "        IDs = box.find_elements_by_css_selector('span.biGQs._P.fiohW.fOtGX')\n",
    "        Dates = box.find_elements_by_class_name('biGQs._P.pZUbB.ncFvv.osNWb')\n",
    "        Stars = box.find_elements_by_css_selector('svg.UctUV.d.H0')      \n",
    "        titles = box.find_elements_by_css_selector('span.yCeTE')\n",
    "        reviews = box.find_elements_by_class_name('biGQs._P.pZUbB.KxBGd')\n",
    "\n",
    "\n",
    "        for ID,Date,Star,title, review in zip(IDs, Dates, Stars, titles, reviews):\n",
    "            name_list.append(ID.text)\n",
    "            date_list.append(Date.text)\n",
    "            stars_list.append(Star.get_attribute('aria-label'))\n",
    "            title_list.append(title.text)\n",
    "            review_list.append(review.text)\n",
    "\n",
    "    time.sleep(10)\n",
    "    try:\n",
    "        driver.find_element_by_class_name(a.BrOJk.u.j.z._F.bYExr.tIqAi.unMkR).click()\n",
    "        time.sleep(5)\n",
    "    except:\n",
    "        break\n",
    "    i += 1\n",
    "    \n",
    "review_data = pd.DataFrame(\n",
    "    {'name': name_list,\n",
    "     'rating': stars_list,\n",
    "     'title': title_list,\n",
    "     'review': review_list,\n",
    "     'date': date_list})"
   ]
  },
  {
   "cell_type": "code",
   "execution_count": 13,
   "metadata": {
    "ExecuteTime": {
     "end_time": "2022-08-18T01:46:31.226990Z",
     "start_time": "2022-08-18T01:46:31.202009Z"
    },
    "scrolled": true
   },
   "outputs": [
    {
     "data": {
      "text/html": [
       "<div>\n",
       "<style scoped>\n",
       "    .dataframe tbody tr th:only-of-type {\n",
       "        vertical-align: middle;\n",
       "    }\n",
       "\n",
       "    .dataframe tbody tr th {\n",
       "        vertical-align: top;\n",
       "    }\n",
       "\n",
       "    .dataframe thead th {\n",
       "        text-align: right;\n",
       "    }\n",
       "</style>\n",
       "<table border=\"1\" class=\"dataframe\">\n",
       "  <thead>\n",
       "    <tr style=\"text-align: right;\">\n",
       "      <th></th>\n",
       "      <th>name</th>\n",
       "      <th>rating</th>\n",
       "      <th>title</th>\n",
       "      <th>review</th>\n",
       "      <th>date</th>\n",
       "    </tr>\n",
       "  </thead>\n",
       "  <tbody>\n",
       "    <tr>\n",
       "      <th>0</th>\n",
       "      <td>Agata0710</td>\n",
       "      <td>5.0 of 5 bubbles</td>\n",
       "      <td>Beautiful temple overlooking the ocean</td>\n",
       "      <td>The views here are fantastic!!! Temple is real...</td>\n",
       "      <td>Written November 30, 2020</td>\n",
       "    </tr>\n",
       "    <tr>\n",
       "      <th>1</th>\n",
       "      <td>The Soul Of Seoul</td>\n",
       "      <td>5.0 of 5 bubbles</td>\n",
       "      <td>Gorgeous Seaside Temple</td>\n",
       "      <td>I’ve been to Naksansa Temple twice, one in the...</td>\n",
       "      <td>Written November 27, 2020</td>\n",
       "    </tr>\n",
       "    <tr>\n",
       "      <th>2</th>\n",
       "      <td>Javier</td>\n",
       "      <td>4.0 of 5 bubbles</td>\n",
       "      <td>Great temple with great views</td>\n",
       "      <td>The temple was amazing in general and most of ...</td>\n",
       "      <td>Written September 4, 2019</td>\n",
       "    </tr>\n",
       "    <tr>\n",
       "      <th>3</th>\n",
       "      <td>travellover4110</td>\n",
       "      <td>5.0 of 5 bubbles</td>\n",
       "      <td>Beautiful spot!</td>\n",
       "      <td>Beautiful historical place to visit. It is tot...</td>\n",
       "      <td>Written January 21, 2019</td>\n",
       "    </tr>\n",
       "    <tr>\n",
       "      <th>4</th>\n",
       "      <td>Tony B</td>\n",
       "      <td>4.0 of 5 bubbles</td>\n",
       "      <td>Another of Korea's iconic Temples.</td>\n",
       "      <td>Located in Yangyang this temple is right on th...</td>\n",
       "      <td>Written December 2, 2018</td>\n",
       "    </tr>\n",
       "    <tr>\n",
       "      <th>5</th>\n",
       "      <td>adventureguyNZ</td>\n",
       "      <td>5.0 of 5 bubbles</td>\n",
       "      <td>So Peaceful</td>\n",
       "      <td>You cant miss this spot. A beautiful mix of na...</td>\n",
       "      <td>Written October 27, 2018</td>\n",
       "    </tr>\n",
       "    <tr>\n",
       "      <th>6</th>\n",
       "      <td>TravelAngler725</td>\n",
       "      <td>5.0 of 5 bubbles</td>\n",
       "      <td>One of my favorites</td>\n",
       "      <td>This is one of my favorite temples in Korea, r...</td>\n",
       "      <td>Written August 20, 2018</td>\n",
       "    </tr>\n",
       "    <tr>\n",
       "      <th>7</th>\n",
       "      <td>GlobetrotterJ16</td>\n",
       "      <td>4.0 of 5 bubbles</td>\n",
       "      <td>Scenic temple complex</td>\n",
       "      <td>The temple complex is nearby Naksan beach and ...</td>\n",
       "      <td>Written July 3, 2018</td>\n",
       "    </tr>\n",
       "    <tr>\n",
       "      <th>8</th>\n",
       "      <td>SunnyCha</td>\n",
       "      <td>4.0 of 5 bubbles</td>\n",
       "      <td>Find yourself with peace and quite</td>\n",
       "      <td>1. They sell local drinks, and it was very tas...</td>\n",
       "      <td>Written June 10, 2018</td>\n",
       "    </tr>\n",
       "    <tr>\n",
       "      <th>9</th>\n",
       "      <td>Marilyn M</td>\n",
       "      <td>5.0 of 5 bubbles</td>\n",
       "      <td>Vacation</td>\n",
       "      <td>A beautiful temple and grounds. Be prepared fo...</td>\n",
       "      <td>Written June 3, 2018</td>\n",
       "    </tr>\n",
       "  </tbody>\n",
       "</table>\n",
       "</div>"
      ],
      "text/plain": [
       "                name            rating  \\\n",
       "0          Agata0710  5.0 of 5 bubbles   \n",
       "1  The Soul Of Seoul  5.0 of 5 bubbles   \n",
       "2             Javier  4.0 of 5 bubbles   \n",
       "3    travellover4110  5.0 of 5 bubbles   \n",
       "4             Tony B  4.0 of 5 bubbles   \n",
       "5     adventureguyNZ  5.0 of 5 bubbles   \n",
       "6    TravelAngler725  5.0 of 5 bubbles   \n",
       "7    GlobetrotterJ16  4.0 of 5 bubbles   \n",
       "8           SunnyCha  4.0 of 5 bubbles   \n",
       "9          Marilyn M  5.0 of 5 bubbles   \n",
       "\n",
       "                                    title  \\\n",
       "0  Beautiful temple overlooking the ocean   \n",
       "1                 Gorgeous Seaside Temple   \n",
       "2           Great temple with great views   \n",
       "3                         Beautiful spot!   \n",
       "4      Another of Korea's iconic Temples.   \n",
       "5                             So Peaceful   \n",
       "6                     One of my favorites   \n",
       "7                   Scenic temple complex   \n",
       "8      Find yourself with peace and quite   \n",
       "9                                Vacation   \n",
       "\n",
       "                                              review  \\\n",
       "0  The views here are fantastic!!! Temple is real...   \n",
       "1  I’ve been to Naksansa Temple twice, one in the...   \n",
       "2  The temple was amazing in general and most of ...   \n",
       "3  Beautiful historical place to visit. It is tot...   \n",
       "4  Located in Yangyang this temple is right on th...   \n",
       "5  You cant miss this spot. A beautiful mix of na...   \n",
       "6  This is one of my favorite temples in Korea, r...   \n",
       "7  The temple complex is nearby Naksan beach and ...   \n",
       "8  1. They sell local drinks, and it was very tas...   \n",
       "9  A beautiful temple and grounds. Be prepared fo...   \n",
       "\n",
       "                        date  \n",
       "0  Written November 30, 2020  \n",
       "1  Written November 27, 2020  \n",
       "2  Written September 4, 2019  \n",
       "3   Written January 21, 2019  \n",
       "4   Written December 2, 2018  \n",
       "5   Written October 27, 2018  \n",
       "6    Written August 20, 2018  \n",
       "7       Written July 3, 2018  \n",
       "8      Written June 10, 2018  \n",
       "9       Written June 3, 2018  "
      ]
     },
     "execution_count": 13,
     "metadata": {},
     "output_type": "execute_result"
    }
   ],
   "source": [
    "pd.set_option('display.max_rows', None)\n",
    "review_data"
   ]
  },
  {
   "cell_type": "code",
   "execution_count": 40,
   "metadata": {
    "ExecuteTime": {
     "end_time": "2022-08-17T15:29:57.649765Z",
     "start_time": "2022-08-17T15:29:57.640767Z"
    }
   },
   "outputs": [],
   "source": [
    "eng_review = review_data.copy()"
   ]
  },
  {
   "cell_type": "code",
   "execution_count": 41,
   "metadata": {
    "ExecuteTime": {
     "end_time": "2022-08-17T15:29:57.741765Z",
     "start_time": "2022-08-17T15:29:57.713764Z"
    }
   },
   "outputs": [
    {
     "name": "stdout",
     "output_type": "stream",
     "text": [
      "8\n"
     ]
    },
    {
     "data": {
      "text/html": [
       "<div>\n",
       "<style scoped>\n",
       "    .dataframe tbody tr th:only-of-type {\n",
       "        vertical-align: middle;\n",
       "    }\n",
       "\n",
       "    .dataframe tbody tr th {\n",
       "        vertical-align: top;\n",
       "    }\n",
       "\n",
       "    .dataframe thead th {\n",
       "        text-align: right;\n",
       "    }\n",
       "</style>\n",
       "<table border=\"1\" class=\"dataframe\">\n",
       "  <thead>\n",
       "    <tr style=\"text-align: right;\">\n",
       "      <th></th>\n",
       "      <th>name</th>\n",
       "      <th>rating</th>\n",
       "      <th>title</th>\n",
       "      <th>review</th>\n",
       "      <th>date</th>\n",
       "    </tr>\n",
       "  </thead>\n",
       "  <tbody>\n",
       "    <tr>\n",
       "      <th>0</th>\n",
       "      <td>GlobetrotterJ16</td>\n",
       "      <td>4.0 of 5 bubbles</td>\n",
       "      <td>Pagoda with nice views</td>\n",
       "      <td>the pavilion is part of naksana temple and one...</td>\n",
       "      <td>July 3, 2018</td>\n",
       "    </tr>\n",
       "    <tr>\n",
       "      <th>1</th>\n",
       "      <td>chitownsam</td>\n",
       "      <td>4.0 of 5 bubbles</td>\n",
       "      <td>Small Pavillion inside Naksana Complex with gr...</td>\n",
       "      <td>this is a lovely small pavillion inside the na...</td>\n",
       "      <td>May 11, 2018</td>\n",
       "    </tr>\n",
       "    <tr>\n",
       "      <th>2</th>\n",
       "      <td>Yahya Danayiyen</td>\n",
       "      <td>5.0 of 5 bubbles</td>\n",
       "      <td>Feeling of peace</td>\n",
       "      <td>the pavilion is located inside the naksansa te...</td>\n",
       "      <td>February 2, 2018</td>\n",
       "    </tr>\n",
       "    <tr>\n",
       "      <th>3</th>\n",
       "      <td>Kia</td>\n",
       "      <td>3.0 of 5 bubbles</td>\n",
       "      <td>Nice views</td>\n",
       "      <td>it s part of on the way to naksana and offers ...</td>\n",
       "      <td>August 12, 2017</td>\n",
       "    </tr>\n",
       "    <tr>\n",
       "      <th>4</th>\n",
       "      <td>Guri Bhateja</td>\n",
       "      <td>3.0 of 5 bubbles</td>\n",
       "      <td>So far so many!</td>\n",
       "      <td>if you have been to korea you have already see...</td>\n",
       "      <td>July 29, 2016</td>\n",
       "    </tr>\n",
       "  </tbody>\n",
       "</table>\n",
       "</div>"
      ],
      "text/plain": [
       "              name            rating  \\\n",
       "0  GlobetrotterJ16  4.0 of 5 bubbles   \n",
       "1       chitownsam  4.0 of 5 bubbles   \n",
       "2  Yahya Danayiyen  5.0 of 5 bubbles   \n",
       "3              Kia  3.0 of 5 bubbles   \n",
       "4     Guri Bhateja  3.0 of 5 bubbles   \n",
       "\n",
       "                                               title  \\\n",
       "0                             Pagoda with nice views   \n",
       "1  Small Pavillion inside Naksana Complex with gr...   \n",
       "2                                   Feeling of peace   \n",
       "3                                         Nice views   \n",
       "4                                    So far so many!   \n",
       "\n",
       "                                              review              date  \n",
       "0  the pavilion is part of naksana temple and one...      July 3, 2018  \n",
       "1  this is a lovely small pavillion inside the na...      May 11, 2018  \n",
       "2  the pavilion is located inside the naksansa te...  February 2, 2018  \n",
       "3  it s part of on the way to naksana and offers ...   August 12, 2017  \n",
       "4  if you have been to korea you have already see...     July 29, 2016  "
      ]
     },
     "execution_count": 41,
     "metadata": {},
     "output_type": "execute_result"
    }
   ],
   "source": [
    "# remove not english sentence & special characters\n",
    "eng_review['review'] = eng_review['review'].str.replace(r'[^A-Za-z0-9]',' ', regex=True)\n",
    "\n",
    "# delete side blank and \"\\n\"\n",
    "eng_review['review'] = eng_review['review'].str.strip()\n",
    "\n",
    "# replace with lowercase\n",
    "eng_review['review'] = eng_review['review'].str.lower()\n",
    "\n",
    "#date에서 Written 없애기\n",
    "eng_review['date'] = eng_review['date'].str.replace('Written ','')\n",
    "\n",
    "print(len(eng_review))\n",
    "eng_review.head()"
   ]
  },
  {
   "cell_type": "code",
   "execution_count": null,
   "metadata": {
    "ExecuteTime": {
     "end_time": "2022-08-17T15:24:44.164798Z",
     "start_time": "2022-08-17T15:24:44.154802Z"
    }
   },
   "outputs": [],
   "source": [
    "# eng_review['title'] = eng_review['title'].str.replace(r'[^A-Za-z0-9]',' ', regex=True)\n",
    "\n",
    "# eng_review.head()"
   ]
  },
  {
   "cell_type": "code",
   "execution_count": 42,
   "metadata": {
    "ExecuteTime": {
     "end_time": "2022-08-17T15:29:57.881291Z",
     "start_time": "2022-08-17T15:29:57.852770Z"
    }
   },
   "outputs": [],
   "source": [
    "#다 바꿔야함\n",
    "eng_review['attraction'] = '의상대'\n",
    "eng_review['address'] = '강원도 양양군 강현면 전진리 100'\n",
    "eng_review['latitude'] = 38.1253749\n",
    "eng_review['longitude'] = 128.6307526\n",
    "#eng_review.to_csv(\"설악산권금성.csv\", encoding=\"utf-8\", index = None) #맥북 기준\n",
    "eng_review.to_csv(\"양양/의상대_trip.csv\", encoding=\"cp949\", index = None) #window 기준"
   ]
  },
  {
   "cell_type": "markdown",
   "metadata": {},
   "source": [
    "=========================================================================="
   ]
  }
 ],
 "metadata": {
  "hide_input": false,
  "kernelspec": {
   "display_name": "Python 3",
   "language": "python",
   "name": "python3"
  },
  "language_info": {
   "codemirror_mode": {
    "name": "ipython",
    "version": 3
   },
   "file_extension": ".py",
   "mimetype": "text/x-python",
   "name": "python",
   "nbconvert_exporter": "python",
   "pygments_lexer": "ipython3",
   "version": "3.8.5"
  },
  "toc": {
   "base_numbering": 1,
   "nav_menu": {},
   "number_sections": true,
   "sideBar": true,
   "skip_h1_title": false,
   "title_cell": "Table of Contents",
   "title_sidebar": "Contents",
   "toc_cell": false,
   "toc_position": {},
   "toc_section_display": true,
   "toc_window_display": false
  },
  "varInspector": {
   "cols": {
    "lenName": 16,
    "lenType": 16,
    "lenVar": 40
   },
   "kernels_config": {
    "python": {
     "delete_cmd_postfix": "",
     "delete_cmd_prefix": "del ",
     "library": "var_list.py",
     "varRefreshCmd": "print(var_dic_list())"
    },
    "r": {
     "delete_cmd_postfix": ") ",
     "delete_cmd_prefix": "rm(",
     "library": "var_list.r",
     "varRefreshCmd": "cat(var_dic_list()) "
    }
   },
   "types_to_exclude": [
    "module",
    "function",
    "builtin_function_or_method",
    "instance",
    "_Feature"
   ],
   "window_display": false
  }
 },
 "nbformat": 4,
 "nbformat_minor": 4
}
